{
 "cells": [
  {
   "cell_type": "markdown",
   "metadata": {},
   "source": [
    "# -- GÁFICOS --\n",
    "    *Patiendo de un DataFrame"
   ]
  },
  {
   "cell_type": "markdown",
   "metadata": {},
   "source": [
    "* LO PRIMERO ES IMPORTAR LAS LIBRERÍAS"
   ]
  },
  {
   "cell_type": "code",
   "execution_count": null,
   "metadata": {},
   "outputs": [],
   "source": [
    "import pandas as pd\n",
    "import numpy as np\n",
    "import matplotlib.pyplot as plt \n",
    "import seaborn as sns"
   ]
  },
  {
   "cell_type": "markdown",
   "metadata": {},
   "source": [
    "* Gráfico de Barras:  \n",
    "Ideal para visualizar la frecuencia de categorías en una variable categórica."
   ]
  },
  {
   "cell_type": "code",
   "execution_count": null,
   "metadata": {},
   "outputs": [],
   "source": [
    "sns.countplot(x='columna', data=df)\n",
    "plt.xlabel('LABEL EJE X')\n",
    "plt.ylabel('LABEL EJE Y')\n",
    "plt.title('TÍTULO DEL GRÁFICO')\n",
    "plt.legend( )\n",
    "plt.show()"
   ]
  },
  {
   "cell_type": "markdown",
   "metadata": {},
   "source": [
    "* Barras Apiladas:  \n",
    "Útil cuando deseas comparar la distribución de una variable categórica a través de otra variable categórica."
   ]
  },
  {
   "cell_type": "code",
   "execution_count": null,
   "metadata": {},
   "outputs": [],
   "source": [
    "df.groupby('columna1')['columna2'].value_counts().unstack().plot(kind='bar', stacked=True)\n",
    "plt.xlabel('LABEL EJE X')\n",
    "plt.ylabel('LABEL EJ Y')\n",
    "plt.title('TÍTULO DEL GRÁFICO')\n",
    "plt.legend( )\n",
    "plt.show()"
   ]
  },
  {
   "cell_type": "markdown",
   "metadata": {},
   "source": [
    "* Barras Agrupadas:  \n",
    "Se utiliza para comparar múltiples categorías en una variable categórica, subdividida por otra variable categórica."
   ]
  },
  {
   "cell_type": "code",
   "execution_count": null,
   "metadata": {},
   "outputs": [],
   "source": [
    "sns.countplot(x='columna1', hue='columna2', data=df)\n",
    "plt.xlabel('LABEL EJE X')\n",
    "plt.ylabel('LABEL EJ Y')\n",
    "plt.title('TÍTULO DEL GRÁFICO')\n",
    "plt.legend( )\n",
    "plt.show()"
   ]
  },
  {
   "cell_type": "markdown",
   "metadata": {},
   "source": [
    "* Histograma:  \n",
    "Excelente para representar la distribución de una variable numérica continua."
   ]
  },
  {
   "cell_type": "code",
   "execution_count": null,
   "metadata": {},
   "outputs": [],
   "source": [
    "sns.histplot(df['columna'], kde=False)\n",
    "plt.xlabel('LABEL EJE X')\n",
    "plt.ylabel('LABEL EJ Y')\n",
    "plt.title('TÍTULO DEL GRÁFICO')\n",
    "plt.legend( )\n",
    "plt.show()"
   ]
  },
  {
   "cell_type": "markdown",
   "metadata": {},
   "source": [
    "* Gráfico de Pie:  \n",
    "Útil para mostrar la proporción de diferentes categorías en una variable categórica."
   ]
  },
  {
   "cell_type": "code",
   "execution_count": null,
   "metadata": {},
   "outputs": [],
   "source": [
    "plt.pie(df['columna'].value_counts(), labels=df['columna'].unique(), autopct='%1.1f%%')\n",
    "plt.xlabel('LABEL EJE X')\n",
    "plt.ylabel('LABEL EJ Y')\n",
    "plt.title('TÍTULO DEL GRÁFICO')\n",
    "plt.legend( )\n",
    "plt.show()"
   ]
  },
  {
   "cell_type": "markdown",
   "metadata": {},
   "source": [
    "* Scatter Plot:  \n",
    "Se utiliza para visualizar la relación entre dos variables numéricas continuas."
   ]
  },
  {
   "cell_type": "code",
   "execution_count": null,
   "metadata": {},
   "outputs": [],
   "source": [
    "plt.scatter(df['columna_x'], df['columna_y'])\n",
    "plt.xlabel('Columna X')\n",
    "plt.ylabel('Columna Y')\n",
    "plt.show()\n"
   ]
  },
  {
   "cell_type": "markdown",
   "metadata": {},
   "source": [
    "* Gráfico de Líneas:  \n",
    "Perfecto para representar la evolución de una variable a lo largo del tiempo o en una secuencia ordenada."
   ]
  },
  {
   "cell_type": "code",
   "execution_count": null,
   "metadata": {},
   "outputs": [],
   "source": [
    "plt.plot(df['columna'])\n",
    "plt.xlabel('Índice')\n",
    "plt.ylabel('Valor')\n",
    "plt.show()\n"
   ]
  },
  {
   "cell_type": "markdown",
   "metadata": {},
   "source": [
    "* Pairplot:  \n",
    "Útil para explorar las relaciones entre todas las combinaciones de variables numéricas en un conjunto de datos."
   ]
  },
  {
   "cell_type": "code",
   "execution_count": null,
   "metadata": {},
   "outputs": [],
   "source": [
    "sns.pairplot(df[columnas])\n",
    "plt.show()"
   ]
  },
  {
   "cell_type": "markdown",
   "metadata": {},
   "source": [
    "* Matriz de Correlación:  \n",
    "Se utiliza para visualizar las correlaciones entre múltiples variables numéricas."
   ]
  },
  {
   "cell_type": "code",
   "execution_count": null,
   "metadata": {},
   "outputs": [],
   "source": [
    "selected_columns = ['columna1', 'columna2', 'columna3','columna4','columna5']\n",
    "df_selected = df[selected_columns]\n",
    "\n",
    "correlacion = df_selected.corr()\n",
    "sns.heatmap(correlacion, annot=True, cmap='coolwarm')\n",
    "plt.title('TÍTULO DEL GRÁFICO')\n",
    "plt.show()\n"
   ]
  },
  {
   "cell_type": "markdown",
   "metadata": {},
   "source": [
    "* Jointplot:  \n",
    "Ideal para visualizar la relación entre dos variables numéricas, incluyendo un histograma de cada variable."
   ]
  },
  {
   "cell_type": "code",
   "execution_count": null,
   "metadata": {},
   "outputs": [],
   "source": [
    "sns.jointplot(x='columna_x', y='columna_y', data=df)\n",
    "plt.xlabel('LABEL EJE X')\n",
    "plt.ylabel('LABEL EJ Y')\n",
    "plt.show()"
   ]
  },
  {
   "cell_type": "markdown",
   "metadata": {},
   "source": [
    "* Violinplot:  \n",
    "Útil para comparar la distribución de una variable numérica entre diferentes categorías."
   ]
  },
  {
   "cell_type": "code",
   "execution_count": null,
   "metadata": {},
   "outputs": [],
   "source": [
    "sns.violinplot(x='columna_x', y='columna_y', data=df)\n",
    "plt.xlabel('LABEL EJE X')\n",
    "plt.ylabel('LABEL EJ Y')\n",
    "plt.title('TÍTULO DEL GRÁFICO')\n",
    "plt.show()"
   ]
  },
  {
   "cell_type": "markdown",
   "metadata": {},
   "source": [
    "* FacetGrid:  \n",
    "Se utiliza para crear múltiples gráficos basados en una o más variables categóricas, lo que facilita la comparación entre subconjuntos de datos."
   ]
  },
  {
   "cell_type": "code",
   "execution_count": null,
   "metadata": {},
   "outputs": [],
   "source": [
    "g = sns.FacetGrid(df, col='columna_x')\n",
    "g.map(plt.hist, 'columna_y')\n",
    "plt.show()"
   ]
  }
 ],
 "metadata": {
  "language_info": {
   "name": "python"
  }
 },
 "nbformat": 4,
 "nbformat_minor": 2
}
