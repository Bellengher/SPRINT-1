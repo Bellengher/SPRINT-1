{
 "cells": [
  {
   "cell_type": "markdown",
   "metadata": {},
   "source": [
    "* Importar Numpy :"
   ]
  },
  {
   "cell_type": "code",
   "execution_count": 3,
   "metadata": {},
   "outputs": [],
   "source": [
    "import numpy as np"
   ]
  },
  {
   "cell_type": "markdown",
   "metadata": {},
   "source": [
    "* NP.ARRAY : Es el constructor de un array , en este caso hacemos uno de dimensión cero."
   ]
  },
  {
   "cell_type": "code",
   "execution_count": 17,
   "metadata": {},
   "outputs": [
    {
     "name": "stdout",
     "output_type": "stream",
     "text": [
      "50\n",
      "Este array es de dimensión : 0\n"
     ]
    }
   ],
   "source": [
    "mi_array = np.array(50)\n",
    "print(mi_array)\n",
    "print (f'Este array es de dimensión : {mi_array.ndim}') # ndim indica la dimensión del array"
   ]
  },
  {
   "cell_type": "markdown",
   "metadata": {},
   "source": [
    "* Construccion de arrays de dimensión 1:"
   ]
  },
  {
   "cell_type": "code",
   "execution_count": 18,
   "metadata": {},
   "outputs": [
    {
     "name": "stdout",
     "output_type": "stream",
     "text": [
      "[2 3 5]\n",
      "Este array es de dimensión : 1\n"
     ]
    }
   ],
   "source": [
    "mi_array = np.array([2,3,5])\n",
    "print(mi_array)\n",
    "print (f'Este array es de dimensión : {mi_array.ndim}')"
   ]
  },
  {
   "cell_type": "markdown",
   "metadata": {},
   "source": [
    "* Constuccion de arrays de dimensión 2:"
   ]
  },
  {
   "cell_type": "code",
   "execution_count": 19,
   "metadata": {},
   "outputs": [
    {
     "name": "stdout",
     "output_type": "stream",
     "text": [
      "[[1 2 3]\n",
      " [4 5 6]]\n",
      "Este array es de dimensión : 2\n"
     ]
    }
   ],
   "source": [
    "mi_array = np.array([[1,2,3],[4,5,6]]) # las dimensiones se pueden identificar por los []\n",
    "print(mi_array)\n",
    "print (f'Este array es de dimensión : {mi_array.ndim}')"
   ]
  },
  {
   "cell_type": "markdown",
   "metadata": {},
   "source": [
    "* Construccion de arrays de dimensión 3:"
   ]
  },
  {
   "cell_type": "code",
   "execution_count": 20,
   "metadata": {},
   "outputs": [
    {
     "name": "stdout",
     "output_type": "stream",
     "text": [
      "[[[1 2 3]\n",
      "  [4 5 6]]\n",
      "\n",
      " [[5 8 9]\n",
      "  [8 3 9]]]\n",
      "Este array es de dimensión : 3\n"
     ]
    }
   ],
   "source": [
    "mi_array = np.array([[[1,2,3],[4,5,6]],[[5,8,9],[8,3,9]]])\n",
    "print(mi_array)\n",
    "print (f'Este array es de dimensión : {mi_array.ndim}')"
   ]
  },
  {
   "cell_type": "markdown",
   "metadata": {},
   "source": [
    "# Llamar un elemento del array\n",
    "* Para llamar un elemento los indices y slices son iguales que en las listas:"
   ]
  },
  {
   "cell_type": "code",
   "execution_count": 35,
   "metadata": {},
   "outputs": [
    {
     "name": "stdout",
     "output_type": "stream",
     "text": [
      "1\n",
      "[5 6 7]\n"
     ]
    }
   ],
   "source": [
    "mi_array = np.array([1,2,3,4,5,6,7,8,9,10])\n",
    "print(mi_array[0])\n",
    "print(mi_array[4:7])"
   ]
  },
  {
   "cell_type": "markdown",
   "metadata": {},
   "source": [
    "* Si tenemos un array de 2 dimensiones:"
   ]
  },
  {
   "cell_type": "code",
   "execution_count": 40,
   "metadata": {},
   "outputs": [
    {
     "name": "stdout",
     "output_type": "stream",
     "text": [
      "Este array es de dimensión : 2\n",
      "[[1 2 3]\n",
      " [4 5 6]]\n",
      "6\n"
     ]
    }
   ],
   "source": [
    "mi_array = np.array([[1,2,3],[4,5,6]])\n",
    "print (f'Este array es de dimensión : {mi_array.ndim}')\n",
    "print(mi_array)\n",
    "print(mi_array[1,2]) # Se le indica la fila y la columna"
   ]
  },
  {
   "cell_type": "markdown",
   "metadata": {},
   "source": [
    "* Si tenemos un array de 3 dimensiones:"
   ]
  },
  {
   "cell_type": "code",
   "execution_count": 41,
   "metadata": {},
   "outputs": [
    {
     "name": "stdout",
     "output_type": "stream",
     "text": [
      "Este array es de dimensión : 3\n",
      "[[[ 1  2  3]\n",
      "  [ 4  5  6]]\n",
      "\n",
      " [[ 8  9  0]\n",
      "  [12 13 15]]]\n",
      "9\n"
     ]
    }
   ],
   "source": [
    "mi_array = np.array([[[1,2,3],[4,5,6]],[[8,9,0],[12,13,15]]])\n",
    "print (f'Este array es de dimensión : {mi_array.ndim}')\n",
    "print(mi_array)\n",
    "print(mi_array[1,0,1]) # profundidad,filas y columnas."
   ]
  },
  {
   "cell_type": "markdown",
   "metadata": {},
   "source": [
    "# Forma del array\n",
    "* SHAPE: Nos dice la forma que tiene el array es decir cuantas filas X cuantas columnas."
   ]
  },
  {
   "cell_type": "code",
   "execution_count": 5,
   "metadata": {},
   "outputs": [
    {
     "name": "stdout",
     "output_type": "stream",
     "text": [
      "Este array es de dimensión : 1\n",
      "(3,)\n"
     ]
    }
   ],
   "source": [
    "mi_array = np.array([1,2,3])\n",
    "print (f'Este array es de dimensión : {mi_array.ndim}')\n",
    "print(np.shape(mi_array)) # La forma dice que tiene 1 dimensión con 3 elementos"
   ]
  },
  {
   "cell_type": "code",
   "execution_count": 47,
   "metadata": {},
   "outputs": [
    {
     "name": "stdout",
     "output_type": "stream",
     "text": [
      "Este array es de dimensión : 2\n",
      "(2, 3)\n"
     ]
    }
   ],
   "source": [
    "mi_array = np.array([[1,2,3],[4,5,6]])\n",
    "print (f'Este array es de dimensión : {mi_array.ndim}')\n",
    "print(np.shape(mi_array)) # La forma dice que tiene 2 dimensiones con 3 elementos"
   ]
  },
  {
   "cell_type": "markdown",
   "metadata": {},
   "source": [
    "* RESHAPE: nos sirve para cambiar la forma de un array, debe coincidir en el len final ."
   ]
  },
  {
   "cell_type": "code",
   "execution_count": 6,
   "metadata": {},
   "outputs": [
    {
     "name": "stdout",
     "output_type": "stream",
     "text": [
      "Array original:\n",
      "[[1 2 3 4]\n",
      " [5 6 7 8]]\n",
      "Array cambiado:\n",
      "[[1 2]\n",
      " [3 4]\n",
      " [5 6]\n",
      " [7 8]]\n"
     ]
    }
   ],
   "source": [
    "mi_array = np.array([[1,2,3,4],[5,6,7,8]])\n",
    "print('Array original:')\n",
    "print(mi_array) # Originalmente era de 2,4\n",
    "mi_array = mi_array.reshape(4,2) # Lo cambio a 4,2\n",
    "print('Array cambiado:')\n",
    "print(mi_array)"
   ]
  },
  {
   "cell_type": "markdown",
   "metadata": {},
   "source": [
    "# Iterar el array\n",
    "* Se hace con for al igual que una iteración normal en pytho"
   ]
  },
  {
   "cell_type": "code",
   "execution_count": 55,
   "metadata": {},
   "outputs": [
    {
     "name": "stdout",
     "output_type": "stream",
     "text": [
      "Este array es de dimensión : 2\n",
      "[1 2 3 4]\n",
      "[5 6 7 8]\n"
     ]
    }
   ],
   "source": [
    "mi_array = np.array([[1,2,3,4],[5,6,7,8]])\n",
    "print (f'Este array es de dimensión : {mi_array.ndim}')\n",
    "for fila in mi_array:\n",
    "    print(fila)"
   ]
  },
  {
   "cell_type": "code",
   "execution_count": 57,
   "metadata": {},
   "outputs": [
    {
     "name": "stdout",
     "output_type": "stream",
     "text": [
      "Este array es de dimensión : 3\n",
      "[1 2 3]\n",
      "[4 5 6]\n",
      "[8 9 0]\n",
      "[12 13 15]\n"
     ]
    }
   ],
   "source": [
    "mi_array = np.array([[[1,2,3],[4,5,6]],[[8,9,0],[12,13,15]]])\n",
    "print (f'Este array es de dimensión : {mi_array.ndim}')\n",
    "for matriz in mi_array: # primero itera las matrices del array\n",
    "    for fila in matriz: # luego itera las filas de las matrices\n",
    "        print(fila)"
   ]
  },
  {
   "cell_type": "markdown",
   "metadata": {},
   "source": [
    "# Concatenar:"
   ]
  },
  {
   "cell_type": "code",
   "execution_count": 8,
   "metadata": {},
   "outputs": [
    {
     "name": "stdout",
     "output_type": "stream",
     "text": [
      "Este array es de dimensión : 1\n",
      "[1 2 3 4 5 6]\n"
     ]
    }
   ],
   "source": [
    "arr1 = np.array([1,2,3])\n",
    "arr2 = np.array([4,5,6])\n",
    "\n",
    "arr = np.concatenate((arr1,arr2)) # junta los arrays en una sola dimensión\n",
    "print (f'Este array es de dimensión : {arr.ndim}')\n",
    "\n",
    "print(arr)"
   ]
  },
  {
   "cell_type": "markdown",
   "metadata": {},
   "source": [
    "* Al concatenar los arrays no se altera la dimensión"
   ]
  },
  {
   "cell_type": "code",
   "execution_count": 11,
   "metadata": {},
   "outputs": [
    {
     "name": "stdout",
     "output_type": "stream",
     "text": [
      "Este array es de dimensión : 2\n",
      "[[1 2]\n",
      " [3 4]\n",
      " [5 6]\n",
      " [7 8]]\n"
     ]
    }
   ],
   "source": [
    "arr1 = np.array([[1,2],[3,4]])\n",
    "arr2 = np.array([[5,6],[7,8]])\n",
    "\n",
    "arr = np.concatenate((arr1,arr2))    \n",
    "print (f'Este array es de dimensión : {arr.ndim}')\n",
    "\n",
    "print(arr)"
   ]
  },
  {
   "cell_type": "code",
   "execution_count": 9,
   "metadata": {},
   "outputs": [
    {
     "name": "stdout",
     "output_type": "stream",
     "text": [
      "Este array es de dimensión : 2\n",
      "[[1 2 5 6]\n",
      " [3 4 7 8]]\n"
     ]
    }
   ],
   "source": [
    "arr1 = np.array([[1,2],[3,4]])\n",
    "arr2 = np.array([[5,6],[7,8]])\n",
    "\n",
    "arr = np.concatenate((arr1,arr2),axis=1)    # axis=1 columnas \n",
    "print (f'Este array es de dimensión : {arr.ndim}')\n",
    "\n",
    "print(arr)"
   ]
  },
  {
   "cell_type": "markdown",
   "metadata": {},
   "source": [
    "# Split\n",
    "* Sirve para separar un array:"
   ]
  },
  {
   "cell_type": "code",
   "execution_count": 13,
   "metadata": {},
   "outputs": [
    {
     "name": "stdout",
     "output_type": "stream",
     "text": [
      "[array([1, 2]), array([3, 4]), array([5, 6])]\n"
     ]
    }
   ],
   "source": [
    "arr = np.array([1,2,3,4,5,6])\n",
    "newarr = np.array_split(arr,3) # _split es lo que divide y arr,3 indica las partes en las que se va a dividir\n",
    "print(newarr)"
   ]
  },
  {
   "cell_type": "markdown",
   "metadata": {},
   "source": [
    "# Where\n",
    "* Buscar dentro de un array:"
   ]
  },
  {
   "cell_type": "code",
   "execution_count": 11,
   "metadata": {},
   "outputs": [
    {
     "name": "stdout",
     "output_type": "stream",
     "text": [
      "(array([4], dtype=int64),)\n"
     ]
    }
   ],
   "source": [
    "arr = np.array([1,2,3,4,5,4,4])\n",
    "x = np.where(arr == 5)  # Te devuelve el indice donde está el elemento que hemos indicado\n",
    "print(x)"
   ]
  },
  {
   "cell_type": "markdown",
   "metadata": {},
   "source": [
    "# Sort\n",
    "* Ordena un array de menor a mayor si son números y alfabéticamente si son palabras ."
   ]
  },
  {
   "cell_type": "code",
   "execution_count": 17,
   "metadata": {},
   "outputs": [
    {
     "name": "stdout",
     "output_type": "stream",
     "text": [
      "[0 1 2 3]\n"
     ]
    }
   ],
   "source": [
    "arr = np.array([3,2,0,1])\n",
    "print(np.sort(arr)) # sort ordena el array "
   ]
  },
  {
   "cell_type": "markdown",
   "metadata": {},
   "source": [
    "# RANDOM\n",
    "* Importar el módulo:"
   ]
  },
  {
   "cell_type": "code",
   "execution_count": 13,
   "metadata": {},
   "outputs": [],
   "source": [
    "from numpy import random "
   ]
  },
  {
   "cell_type": "markdown",
   "metadata": {},
   "source": [
    "* Randint()"
   ]
  },
  {
   "cell_type": "code",
   "execution_count": 14,
   "metadata": {},
   "outputs": [
    {
     "name": "stdout",
     "output_type": "stream",
     "text": [
      "2\n"
     ]
    }
   ],
   "source": [
    "numero = random.randint(10) # Cada que se ejecute generará números enteros del 1 al 9 aleatoriamente \n",
    "print(numero)"
   ]
  },
  {
   "cell_type": "code",
   "execution_count": 60,
   "metadata": {},
   "outputs": [
    {
     "name": "stdout",
     "output_type": "stream",
     "text": [
      "5.61\n"
     ]
    }
   ],
   "source": [
    "numero = random.rand() # Cada que se ejecute generará números float aleatoriamente \n",
    "print(round(numero, 2) + 5) # round,2 indica que queremos que muestre 2 decimales y el +5 que empiece desde 5.00 hasta 5.99"
   ]
  },
  {
   "cell_type": "code",
   "execution_count": 66,
   "metadata": {},
   "outputs": [
    {
     "name": "stdout",
     "output_type": "stream",
     "text": [
      "[[7 2 6 4 1]\n",
      " [9 1 6 6 8]\n",
      " [0 7 9 5 6]]\n"
     ]
    }
   ],
   "source": [
    "numeros = random.randint(10, size = (3,5)) # 3,5 es el tamaño de la matriz\n",
    "print(numeros)"
   ]
  },
  {
   "cell_type": "code",
   "execution_count": 68,
   "metadata": {},
   "outputs": [
    {
     "name": "stdout",
     "output_type": "stream",
     "text": [
      "[[0.09513159 0.41806623 0.68758347 0.66379977 0.64271833]\n",
      " [0.57074409 0.18058716 0.53610316 0.48885257 0.09333217]\n",
      " [0.80381825 0.93794875 0.35006335 0.7947091  0.01437666]]\n"
     ]
    }
   ],
   "source": [
    "numeros = random.rand(3,5) # 3,5 es el tamaño de la matriz\n",
    "print(numeros)"
   ]
  },
  {
   "cell_type": "markdown",
   "metadata": {},
   "source": [
    "# Choice\n",
    "* Escoje un elemento al azar"
   ]
  },
  {
   "cell_type": "code",
   "execution_count": 78,
   "metadata": {},
   "outputs": [
    {
     "name": "stdout",
     "output_type": "stream",
     "text": [
      "El ganador del sorteo es: Javi\n"
     ]
    }
   ],
   "source": [
    "lista_nombres = ['Javi', 'Nat', 'Germán', 'Mica','Haile']\n",
    "ganador = random.choice(lista_nombres)  # Choice escoje un elemento aleatoriamente de la lista\n",
    "print(f'El ganador del sorteo es: {ganador}')"
   ]
  },
  {
   "cell_type": "code",
   "execution_count": 82,
   "metadata": {},
   "outputs": [
    {
     "name": "stdout",
     "output_type": "stream",
     "text": [
      "El ganador del sorteo es: ['Mica' 'Nat']\n"
     ]
    }
   ],
   "source": [
    "lista_nombres = ['Javi', 'Nat', 'Germán', 'Mica','Haile']\n",
    "ganador = random.choice(lista_nombres, size = (2))  # size = (2) elegirá 2 elementos y si indico (2,5) genera una matriz\n",
    "print(f'El ganador del sorteo es: {ganador}')"
   ]
  }
 ],
 "metadata": {
  "kernelspec": {
   "display_name": "Python 3",
   "language": "python",
   "name": "python3"
  },
  "language_info": {
   "codemirror_mode": {
    "name": "ipython",
    "version": 3
   },
   "file_extension": ".py",
   "mimetype": "text/x-python",
   "name": "python",
   "nbconvert_exporter": "python",
   "pygments_lexer": "ipython3",
   "version": "3.11.9"
  }
 },
 "nbformat": 4,
 "nbformat_minor": 2
}
