{
 "cells": [
  {
   "cell_type": "markdown",
   "metadata": {},
   "source": [
    "# -- FUNCIONES DE AGREGACIÓN --"
   ]
  },
  {
   "cell_type": "markdown",
   "metadata": {},
   "source": [
    "* 1. sum()\n",
    "Calcula la suma de los valores."
   ]
  },
  {
   "cell_type": "code",
   "execution_count": null,
   "metadata": {},
   "outputs": [],
   "source": [
    "# Suma de ventas por país\n",
    "ventas_por_pais = df.groupby('company_country')['amount'].sum()\n",
    "print(ventas_por_pais)"
   ]
  },
  {
   "cell_type": "markdown",
   "metadata": {},
   "source": [
    "* 2. mean()\n",
    "Calcula el promedio de los valores."
   ]
  },
  {
   "cell_type": "code",
   "execution_count": null,
   "metadata": {},
   "outputs": [],
   "source": [
    "# Promedio de ventas por país\n",
    "promedio_ventas_por_pais = df.groupby('company_country')['amount'].mean()\n",
    "print(promedio_ventas_por_pais)"
   ]
  },
  {
   "cell_type": "markdown",
   "metadata": {},
   "source": [
    "* 3. count()\n",
    "Cuenta el número de valores (no nulos)."
   ]
  },
  {
   "cell_type": "code",
   "execution_count": null,
   "metadata": {},
   "outputs": [],
   "source": [
    "# Conteo de transacciones por país\n",
    "conteo_transacciones_por_pais = df.groupby('company_country')['id'].count()\n",
    "print(conteo_transacciones_por_pais)"
   ]
  },
  {
   "cell_type": "markdown",
   "metadata": {},
   "source": [
    "* 4. min()\n",
    "Encuentra el valor mínimo."
   ]
  },
  {
   "cell_type": "code",
   "execution_count": null,
   "metadata": {},
   "outputs": [],
   "source": [
    "# Venta mínima por país\n",
    "venta_minima_por_pais = df.groupby('company_country')['amount'].min()\n",
    "print(venta_minima_por_pais)"
   ]
  },
  {
   "cell_type": "markdown",
   "metadata": {},
   "source": [
    "* 5. max()\n",
    "Encuentra el valor máximo."
   ]
  },
  {
   "cell_type": "code",
   "execution_count": null,
   "metadata": {},
   "outputs": [],
   "source": [
    "# Venta máxima por país\n",
    "venta_maxima_por_pais = df.groupby('company_country')['amount'].max()\n",
    "print(venta_maxima_por_pais)"
   ]
  },
  {
   "cell_type": "markdown",
   "metadata": {},
   "source": [
    "* 6. std()\n",
    "Calcula la desviación estándar."
   ]
  },
  {
   "cell_type": "code",
   "execution_count": null,
   "metadata": {},
   "outputs": [],
   "source": [
    "# Desviación estándar de las ventas por país\n",
    "std_ventas_por_pais = df.groupby('company_country')['amount'].std()\n",
    "print(std_ventas_por_pais)"
   ]
  },
  {
   "cell_type": "markdown",
   "metadata": {},
   "source": [
    "* 7. var()\n",
    "Calcula la varianza."
   ]
  },
  {
   "cell_type": "code",
   "execution_count": null,
   "metadata": {},
   "outputs": [],
   "source": [
    "# Varianza de las ventas por país\n",
    "var_ventas_por_pais = df.groupby('company_country')['amount'].var()\n",
    "print(var_ventas_por_pais)"
   ]
  },
  {
   "cell_type": "markdown",
   "metadata": {},
   "source": [
    "* 8. median()\n",
    "Calcula la mediana."
   ]
  },
  {
   "cell_type": "code",
   "execution_count": null,
   "metadata": {},
   "outputs": [],
   "source": [
    "# Mediana de las ventas por país\n",
    "mediana_ventas_por_pais = df.groupby('company_country')['amount'].median()\n",
    "print(mediana_ventas_por_pais)"
   ]
  },
  {
   "cell_type": "markdown",
   "metadata": {},
   "source": [
    "* 9. agg()\n",
    "Aplica múltiples funciones de agregación a la vez."
   ]
  },
  {
   "cell_type": "code",
   "execution_count": null,
   "metadata": {},
   "outputs": [],
   "source": [
    "# Múltiples agregaciones (suma y promedio) de ventas por país\n",
    "agregaciones_ventas_por_pais = df.groupby('company_country')['amount'].agg(['sum', 'mean'])\n",
    "print(agregaciones_ventas_por_pais)"
   ]
  },
  {
   "cell_type": "markdown",
   "metadata": {},
   "source": [
    "* 10. describe()\n",
    "Genera estadísticas descriptivas que resumen la tendencia central, la dispersión y la forma de la distribución de un conjunto de datos."
   ]
  },
  {
   "cell_type": "code",
   "execution_count": null,
   "metadata": {},
   "outputs": [],
   "source": [
    "# Estadísticas descriptivas de ventas por país\n",
    "estadisticas_ventas_por_pais = df.groupby('company_country')['amount'].describe()\n",
    "print(estadisticas_ventas_por_pais)"
   ]
  },
  {
   "cell_type": "markdown",
   "metadata": {},
   "source": [
    "* 11. apply()\n",
    "Permite aplicar cualquier función a los grupos."
   ]
  },
  {
   "cell_type": "code",
   "execution_count": null,
   "metadata": {},
   "outputs": [],
   "source": [
    "# Función personalizada: rango (max - min) de las ventas por país\n",
    "def rango(x):\n",
    "    return x.max() - x.min()\n",
    "\n",
    "rango_ventas_por_pais = df.groupby('company_country')['amount'].apply(rango)\n",
    "print(rango_ventas_por_pais)\n"
   ]
  },
  {
   "cell_type": "markdown",
   "metadata": {},
   "source": [
    "* 12. Filtrar el DF."
   ]
  },
  {
   "cell_type": "code",
   "execution_count": null,
   "metadata": {},
   "outputs": [],
   "source": [
    "# Filtrar el DataFrame\n",
    "transacciones_rechazadas_germany = df[(df['company_country'] == 'Germany') & (df['declined'] > 0)]\n",
    "\n",
    "# Mostrar el resultado\n",
    "print(transacciones_rechazadas_germany)\n"
   ]
  }
 ],
 "metadata": {
  "kernelspec": {
   "display_name": "Pandas",
   "language": "python",
   "name": "python3"
  },
  "language_info": {
   "codemirror_mode": {
    "name": "ipython",
    "version": 3
   },
   "file_extension": ".py",
   "mimetype": "text/x-python",
   "name": "python",
   "nbconvert_exporter": "python",
   "pygments_lexer": "ipython3",
   "version": "3.11.9"
  }
 },
 "nbformat": 4,
 "nbformat_minor": 2
}
