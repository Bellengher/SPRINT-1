{
 "cells": [
  {
   "cell_type": "markdown",
   "metadata": {},
   "source": [
    "# -NIVEL 1-"
   ]
  },
  {
   "cell_type": "markdown",
   "metadata": {},
   "source": [
    " EJERCICIO 1: CALCULADORA DE INDICE DE MASA CORPORAL\n"
   ]
  },
  {
   "cell_type": "code",
   "execution_count": 17,
   "metadata": {},
   "outputs": [
    {
     "name": "stdout",
     "output_type": "stream",
     "text": [
      "Hola, soy Jarvis tu asistente de salud. Vamos a averiguar tu índice de masa corporal.\n",
      "Muy bien, Roco.\n",
      "Por favor, utiliza un punto en lugar de una coma para representar los decimales.\n",
      "Tu índice de masa corporal es:  8.82 . Tienes bajo peso.\n",
      "Adiós, Roco.\n"
     ]
    }
   ],
   "source": [
    "print('Hola, soy Jarvis tu asistente de salud, vamos a averiguar tu índice de masa corporal.')\n",
    "\n",
    "vnombre = str(input('¿Cuál es tu nombre?: '))\n",
    "vnombre = vnombre.capitalize()  \n",
    "print('Muy bien ' + vnombre + '.')\n",
    "\n",
    "while True:\n",
    "    vestatura = input('¿Cuál es tu estatura en metros?(utiliza . para decimales por favor): ')\n",
    "\n",
    "    if ',' in vestatura:\n",
    "        print(\"Por favor, utiliza un punto en lugar de una coma para representar los decimales.\")\n",
    "    else:\n",
    "        break  \n",
    "\n",
    "vestatura = float(vestatura)  \n",
    "\n",
    "while True:\n",
    "    vpeso = input('¿Cuál es tu peso en kilogramos?(utiliza . para decimales por favor): ')\n",
    "\n",
    "    if ',' in vpeso:\n",
    "        print(\"Por favor, utiliza un punto en lugar de una coma para representar los decimales.\")\n",
    "    else:\n",
    "        break  \n",
    "\n",
    "vpeso = float(vpeso)\n",
    "\n",
    "imc = round(vpeso / (vestatura ** 2), 2)\n",
    "\n",
    "if imc < 18.5:\n",
    "    print ('Tu índice de masa corporal es: ', imc, '. Tienes bajo peso.')\n",
    "elif imc < 25:\n",
    "    print('Tu índice de masa corporal es:', imc, '. Tienes un peso normal.')\n",
    "elif imc > 30:\n",
    "    print('Tu índice de masa corporal es:', imc, '. Tienes sobrepeso.')\n",
    "else:\n",
    "    print('Tu índice de masa corporal es:', imc, '. Tienes obesidad.')\n",
    "\n",
    "print('Adiós ' + vnombre + '.')\n"
   ]
  },
  {
   "cell_type": "markdown",
   "metadata": {},
   "source": [
    "EJERCICIO 2: CONVERSOR DE TEMPERATURAS \n",
    "\n"
   ]
  },
  {
   "cell_type": "code",
   "execution_count": 54,
   "metadata": {},
   "outputs": [
    {
     "name": "stdout",
     "output_type": "stream",
     "text": [
      "Hola, vamos a convertir los distintos tipos de temperatura.\n",
      "Quieres convertir 23.0 grados K a grados C\n",
      "El resultado de la conversión es: -250.15 grados C\n"
     ]
    }
   ],
   "source": [
    "print('Hola, vamos a convertir los distintos tipos de temperatura.')\n",
    "\n",
    "opciones_sistema_temp = ['C', 'F', 'K']\n",
    "resultado = 0\n",
    "vtemperatura = float(input('Dime una temperatura: '))\n",
    "\n",
    "while True:\n",
    "    vsistempin = input('En qué sistema es esta temperatura? (C para Celsius, F para Fahrenheit o K Kelvin): ')\n",
    "\n",
    "    if vsistempin.upper() in opciones_sistema_temp:\n",
    "        break\n",
    "    else:\n",
    "        print('Opción no válida. Por favor, elige entre C para Celsius, F para Fahrenheit o K Kelvin.')\n",
    "\n",
    "while True:\n",
    "    vsistempout = input('A qué sistema quieres convertirlo? (C para Celsius, F para Fahrenheit o K Kelvin): ')\n",
    "\n",
    "    if vsistempout.upper() != vsistempin:\n",
    "        break\n",
    "    else:\n",
    "        print('Has seleccionado el mismo sistema. Por favor, elige una opción diferente: C para Celsius, F para Fahrenheit o K Kelvin')\n",
    "\n",
    "print('Quieres convertir', vtemperatura, 'grados', vsistempin.upper(), 'a grados', vsistempout.upper())\n",
    "\n",
    "vsistempin = vsistempin.upper()\n",
    "vsistempout = vsistempout.upper()\n",
    "\n",
    "# Parte donde se hace la conversion de unidades\n",
    "if vsistempin == 'C':\n",
    "    if vsistempout == 'F':\n",
    "        resultado = round((vtemperatura * 9/5) + 32, 2)\n",
    "    elif vsistempout == 'K':\n",
    "        resultado = round(vtemperatura + 273.15, 2)\n",
    "\n",
    "elif vsistempin == 'F':\n",
    "    if vsistempout == 'C':\n",
    "        resultado = round((vtemperatura - 32) * 5/9, 2)\n",
    "    elif vsistempout == 'K':\n",
    "        resultado = round(((vtemperatura - 32) * 5/9) + 273.15, 2)\n",
    "\n",
    "elif vsistempin == 'K':\n",
    "    if vsistempout == 'C':\n",
    "        resultado = round(vtemperatura - 273.15, 2)\n",
    "    elif vsistempout == 'F':\n",
    "        resultado = round((vtemperatura - 273.15) * 9/5 + 32, 2)\n",
    "\n",
    "print('El resultado de la conversión es:', resultado, 'grados', vsistempout)\n"
   ]
  },
  {
   "cell_type": "markdown",
   "metadata": {},
   "source": [
    "EJERCICIO 3 CONTADOR DE PALABRAS DE UN TEXTO\n",
    "\n",
    "Escriu una funció que donat un text, mostri les vegades que apareix cada paraula."
   ]
  },
  {
   "cell_type": "code",
   "execution_count": 8,
   "metadata": {},
   "outputs": [
    {
     "name": "stdout",
     "output_type": "stream",
     "text": [
      "El texto es:  paco peco chico rico\n",
      "Aquí está el conteo:\n",
      "paco: 1\n",
      "peco: 1\n",
      "chico: 1\n",
      "rico: 1\n"
     ]
    }
   ],
   "source": [
    "import string\n",
    "\n",
    "def contador_de_palabras(texto):\n",
    "    texto_limpio = ''.join(caracter for caracter in texto if caracter not in string.punctuation)\n",
    "\n",
    "    palabras = texto_limpio.split()\n",
    "\n",
    "    ocurrencias = {}\n",
    "\n",
    "    for palabra in palabras:\n",
    "        palabra = palabra.lower()\n",
    "        if palabra.isalpha():\n",
    "            if palabra in ocurrencias:\n",
    "                ocurrencias[palabra] += 1\n",
    "            else:\n",
    "                ocurrencias[palabra] = 1\n",
    "\n",
    "    for palabra, conteo in ocurrencias.items():\n",
    "        print(f'{palabra}: {conteo}')\n",
    "\n",
    "texto = input('Hola, ingresa el texto que quieras que te cuente la cantidad de veces que aparece cada palabra: ')\n",
    "print('El texto es: ',texto)\n",
    "print('Aquí está el conteo:')\n",
    "contador_de_palabras(texto)\n",
    "\n"
   ]
  },
  {
   "cell_type": "markdown",
   "metadata": {},
   "source": [
    "EJERCICIO 4 DICCIONARIO INVERSO\n",
    "\n",
    "Resulta que el client té una enquesta molt antiga que s'emmagatzema en un diccionari i els resultats els necessita al revés, és a dir, intercanviats les claus i els valors. Els valors i claus en el diccionari original són únics; si aquest no és el cas, la funció hauria d'imprimir un missatge d'advertiment."
   ]
  },
  {
   "cell_type": "code",
   "execution_count": null,
   "metadata": {},
   "outputs": [],
   "source": []
  }
 ],
 "metadata": {
  "kernelspec": {
   "display_name": "Python 3",
   "language": "python",
   "name": "python3"
  },
  "language_info": {
   "codemirror_mode": {
    "name": "ipython",
    "version": 3
   },
   "file_extension": ".py",
   "mimetype": "text/x-python",
   "name": "python",
   "nbconvert_exporter": "python",
   "pygments_lexer": "ipython3",
   "version": "3.12.2"
  }
 },
 "nbformat": 4,
 "nbformat_minor": 2
}
