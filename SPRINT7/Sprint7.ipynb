{
 "cells": [
  {
   "cell_type": "markdown",
   "metadata": {},
   "source": [
    "# *** Sprint 7: Nociones y conocimientos básicos de Python ***"
   ]
  },
  {
   "cell_type": "markdown",
   "metadata": {},
   "source": [
    "# -NIVEL 1-\n",
    "# EJERCICIO 1: CALCULADORA DE INDICE DE MASA CORPORAL\n"
   ]
  },
  {
   "cell_type": "markdown",
   "metadata": {},
   "source": [
    "1º Muestro un mensaje donde el programa se presenta de una manera cordial.  \n",
    "2º Declaro una variable (vnombre) para que el usuario ingrese su nombre mediante un input.      \n",
    "3º Utilizo un bucle while donde por mefio de un input se almacenará en la variable (vestatura) la estatura del usuario que tendrá la condicion de que utilice un punto (.) en lugar de coma (,) para los decimales.  \n",
    "4º Hago un casting para que el valor de vestatura sea float.  \n",
    "5º Utilizo otro bucle while para que por medio de otro input se almacene el peso en la variable vpeso y al igual que en el bucle anterior se pone la condición de que se utilice (.) en lugar de (,) para los decimales.  \n",
    "6º Hago un casting para que el valor de vpeso sea float.  \n",
    "7º Hago la fórmula para encontrar el indice de masa corporal que asignaré en la variable imc y con round indico que sólo quiero mostrar 2 decimales.  \n",
    "8º Con un bloque if valoro el resultado de la variable imc y muestro con print el mensaje según las indicaciones del ejercicio,  \n",
    "9º Utilizo un print para mostrar un mensaje de despedida donde incluyo el nombre el ususario para hacerlo más personal.  "
   ]
  },
  {
   "cell_type": "markdown",
   "metadata": {},
   "source": [
    "# \n"
   ]
  },
  {
   "cell_type": "code",
   "execution_count": 1,
   "metadata": {},
   "outputs": [
    {
     "name": "stdout",
     "output_type": "stream",
     "text": [
      "Hola, soy Jarvis tu asistente de salud, vamos a averiguar tu índice de masa corporal.\n",
      "Muy bien Javi.\n",
      "Por favor, utiliza un punto en lugar de una coma para los decimales.\n",
      "Tu índice de masa corporal es: 24.85 . Tienes un peso normal.\n",
      "Adiós Javi. \n"
     ]
    }
   ],
   "source": [
    "print('Hola, soy Jarvis tu asistente de salud, vamos a averiguar tu índice de masa corporal.')\n",
    "\n",
    "vnombre = input('¿Cuál es tu nombre?: ')     \n",
    "vnombre = vnombre.capitalize()  \n",
    "print(f'Muy bien {vnombre}.')\n",
    "\n",
    "while True:\n",
    "    vestatura = input('¿Cuál es tu estatura en metros?(utiliza . para decimales por favor): ')  \n",
    "    if ',' in vestatura:   \n",
    "        print(f'Por favor {vnombre}, utiliza un punto en lugar de una coma para los decimales.')\n",
    "    else:\n",
    "        break  \n",
    "\n",
    "vestatura = float(vestatura)  \n",
    "while True:\n",
    "    vpeso = input('¿Cuál es tu peso en kilogramos?(utiliza . para decimales por favor): ')  \n",
    "    if ',' in vpeso:  \n",
    "        print(\"Por favor, utiliza un punto en lugar de una coma para los decimales.\")\n",
    "    else:\n",
    "        break  \n",
    "\n",
    "vpeso = float(vpeso)\n",
    "imc = round(vpeso / (vestatura ** 2), 2)   \n",
    "\n",
    "if imc < 18.5:\n",
    "    print (f'Tu índice de masa corporal es: {imc} . Tienes bajo peso.')\n",
    "elif imc < 25:\n",
    "    print(f'Tu índice de masa corporal es: {imc} . Tienes un peso normal.')\n",
    "elif imc < 30:\n",
    "    print(f'Tu índice de masa corporal es: {imc} . Tienes sobrepeso.')\n",
    "else:\n",
    "    print(f'Tu índice de masa corporal es: {imc} . Tienes obesidad.')\n",
    "\n",
    "print(f'Adiós {vnombre}. ')\n"
   ]
  },
  {
   "cell_type": "markdown",
   "metadata": {},
   "source": [
    "# EJERCICIO 2: CONVERSOR DE TEMPERATURAS\n",
    "* Declaración de variables:  \n",
    "1º Creo la lista opciones_sistema_temp donde almacenos las iniciales de los sistemas de medidas que utilizaré.  \n",
    "2º Creo la variable resultado donde se almacenaré el resultado ( de momento con valos 0).  \n",
    "3º Creo la variabale vtemperatura donde almaceno la temperatura que se obtiene de un input y se castea para que sea float.  \n",
    "* Validar sistema de temperatura de entrada:  \n",
    "Bucle while:  \n",
    "1º Por medio de un input asigno el valor a la variable vsistempin dando un mensaje al usuario de las opciones a escoger.  \n",
    "2º Uso la función upper para que el valor esté en mayúscula y compruebo si coincide con algún valor de la lista de opciones en cuyo caso sale del bucle , de no ser así muestra un mensaje solicitando que ingrese el valor nuevamente.  \n",
    "* Validar sistema de temperatura de salida:  \n",
    "Bucle while:  \n",
    "1º Con otro input pregunto el sistema que desea utilizar para la salida.  \n",
    "2º Uso la función upper para que el valor esté en mayúscula y compruebo si coincide con algún valor de la lista de opciones en cuyo caso sale del bucle , de no ser así muestra un mensaje solicitando que ingrese el valor nuevamente.  "
   ]
  },
  {
   "cell_type": "code",
   "execution_count": 70,
   "metadata": {},
   "outputs": [
    {
     "name": "stdout",
     "output_type": "stream",
     "text": [
      "Opción no válida, escoge entre estas opciones: ['C', 'K']\n",
      "Quieres convertir 67.0 grados F a grados C\n",
      "El resultado de la conversión es: 19.444444444444443 grados C\n"
     ]
    }
   ],
   "source": [
    "opciones_sistema_temp = ['C', 'F', 'K']\n",
    "vtemperatura = float(input('Dime una temperatura: '))\n",
    "\n",
    "# Validar el sistema de temperatura de entrada\n",
    "while True:\n",
    "    vsistempin =input('De qué sistema es esta temperatura? (C para Celsius, F para Fahrenheit o K para Kelvin): ').upper()\n",
    "\n",
    "    if vsistempin in opciones_sistema_temp:\n",
    "        opciones_sistema_temp.remove(vsistempin)\n",
    "        break \n",
    "    else:\n",
    "        print('Opción no válida. Por favor, elige entre C para Celsius, F para Fahrenheit o K Kelvin.')\n",
    "\n",
    "# Validar el sistema de temperatura de salida\n",
    "while True:\n",
    "    vsistempout = input(f'A qué sistema quieres convertirlo? {opciones_sistema_temp} ').upper()\n",
    "\n",
    "    if vsistempout in opciones_sistema_temp:\n",
    "        break\n",
    "    else:\n",
    "        print(f'Opción no válida, escoge entre estas opciones: {opciones_sistema_temp}')\n",
    " \n",
    "\n",
    "# Parte donde se hace la conversión de unidades\n",
    "if vsistempin == 'C':\n",
    "    if vsistempout == 'F':\n",
    "        resultado = (vtemperatura * 9/5) + 32\n",
    "    elif vsistempout == 'K':\n",
    "        resultado = vtemperatura + 273.15\n",
    "\n",
    "elif vsistempin == 'F':\n",
    "\n",
    "    if vsistempout == 'C':\n",
    "        resultado = (vtemperatura - 32) * 5/9\n",
    "    elif vsistempout == 'K':\n",
    "        resultado = ((vtemperatura - 32) * 5/9) + 273.15\n",
    "\n",
    "elif vsistempin == 'K':\n",
    "    if vsistempout == 'C':\n",
    "        resultado = vtemperatura - 273.15\n",
    "    elif vsistempout == 'F':\n",
    "        resultado = (vtemperatura - 273.15) * 9/5 + 32\n",
    "\n",
    "\n",
    "print(f'Quieres convertir {vtemperatura} grados {vsistempin} a grados {vsistempout}')\n",
    "print(f'El resultado de la conversión es: {resultado} grados {vsistempout}')\n",
    "\n",
    "\n"
   ]
  },
  {
   "cell_type": "markdown",
   "metadata": {},
   "source": [
    "EJERCICIO 3: CONTADOR DE PALABRAS DE UN TEXTO\n",
    "\n",
    "Escribe una función que dado un texto, muestre las veces que aparece cada palabra."
   ]
  },
  {
   "cell_type": "code",
   "execution_count": null,
   "metadata": {},
   "outputs": [],
   "source": [
    "import string  # Importo el módulo string para trabajar con signos de puntuación.\n",
    "\n",
    "def contador_de_palabras(texto):  # Defino la función para contar palabras en un texto.\n",
    "    # Elimino los signos de puntuación del texto y lo guardo en una variable llamada texto_limpio.\n",
    "    texto_limpio = ''.join(caracter for caracter in texto if caracter not in string.punctuation) \n",
    "    # Divido el texto limpio en una lista de palabras y guarda la lista en la variable palabras.\n",
    "    palabras = texto_limpio.split()\n",
    "    # Creo un diccionario vacío llamado ocurrencias para almacenar las palabras y sus conteos.\n",
    "    ocurrencias = {}\n",
    "    \n",
    "    # Utilizo bucle for para iterar cada palabra en la lista de palabras.\n",
    "    for palabra in palabras:\n",
    "        palabra = palabra.lower()  # Convierto la palabra a minúsculas.\n",
    "        if palabra.isalpha():  # Se comprueba que la palabra contiene solo letras con el método isalpha.\n",
    "            if palabra in ocurrencias:  # Si la palabra ya está en el diccionario de ocurrencias.\n",
    "                ocurrencias[palabra] += 1  # Incrementa el conteo de la palabra si ya está en el diccionario.\n",
    "            else:\n",
    "                ocurrencias[palabra] = 1  # Si no está se grega la palabra al diccionario de ocurrencias.\n",
    "    \n",
    "    # Bucle for para iterar el diccionario de ocurrencias para imprimir cada palabra y su conteo.\n",
    "    for palabra, conteo in ocurrencias.items():\n",
    "        print(f'{palabra}: {conteo}')\n",
    "\n",
    "# Solicita al usuario que ingrese un texto.\n",
    "texto = input('Hola, ingresa el texto que quieras que te cuente la cantidad de veces que aparece cada palabra: ')\n",
    "print(f'El texto es: {texto}')  \n",
    "print('Aquí está el conteo:')  \n",
    "contador_de_palabras(texto)  # Llamo a la función contador_de_palabras.\n"
   ]
  },
  {
   "cell_type": "code",
   "execution_count": null,
   "metadata": {},
   "outputs": [],
   "source": [
    "    # Creo un diccionario vacío llamado ocurrencias para almacenar las palabras y sus conteos.\n",
    "    ocurrencias = {}\n",
    "    \n",
    "    # Utilizo bucle for para iterar cada palabra en la lista de palabras.\n",
    "    for palabra in palabras:\n",
    "        palabra = palabra.lower()  # Convierto la palabra a minúsculas.\n",
    "        if palabra.isalpha():  # Se comprueba que la palabra contiene solo letras con el método isalpha.\n",
    "            if palabra in ocurrencias:  # Si la palabra ya está en el diccionario de ocurrencias.\n",
    "                ocurrencias[palabra] += 1  # Incrementa el conteo de la palabra si ya está en el diccionario.\n",
    "            else:\n",
    "                ocurrencias[palabra] = 1  # Si no está se grega la palabra al diccionario de ocurrencias.\n",
    "    \n",
    "    # Bucle for para iterar el diccionario de ocurrencias para imprimir cada palabra y su conteo.\n",
    "    for palabra, conteo in ocurrencias.items():\n",
    "        print(f'{palabra}: {conteo}')\n",
    "\n",
    "# Solicita al usuario que ingrese un texto.\n",
    "texto = input('Hola, ingresa el texto que quieras que te cuente la cantidad de veces que aparece cada palabra: ')\n",
    "print(f'El texto es: {texto}')  \n",
    "print('Aquí está el conteo:')  \n",
    "contador_de_palabras(texto)  # Llamo a la función contador_de_palabras.\n"
   ]
  },
  {
   "cell_type": "code",
   "execution_count": null,
   "metadata": {},
   "outputs": [],
   "source": [
    "\n",
    "\n",
    "def contador_de_palabras(texto): # Defino una función que se encargará de hacer el\n",
    "  \n",
    "  \n",
    "    for palabra in palabras:\n",
    "        palabra = palabra.lower() # Convierte todo a minúsculas para evitar errores.\n",
    "        if palabra.isalpha(): # Comprueba si el elemento solo contiene letras.\n",
    "            if palabra in ocurrencias:\n",
    "                ocurrencias[palabra] += 1\n",
    "            else:\n",
    "                ocurrencias[palabra] = 1\n",
    "    #total += 1 \n",
    "    for palabra, conteo in ocurrencias.items():\n",
    "        print(f'{palabra}: {conteo}')\n",
    "\n",
    "texto = input('Hola, ingresa el texto que quieras que te cuente la cantidad de veces que aparece cada palabra: ')\n",
    "print(f'El texto es: {texto}')\n",
    "#print(f'El texto tiene {len(total)} palabras.')\n",
    "print('Aquí está el conteo:')\n",
    "contador_de_palabras(texto)\n"
   ]
  },
  {
   "cell_type": "markdown",
   "metadata": {},
   "source": [
    "EJERCICIO 4: DICCIONARIO INVERSO\n",
    "\n",
    "Resulta que el cliente tiene una encuesta muy antigua que se almacena en un diccionario y los resultados los necesita al revés, es decir, intercambiados las claves y los valores. Los valores y claves en el diccionario original son únicos; si este no es el caso, la función debería imprimir un mensaje de advertencia."
   ]
  },
  {
   "cell_type": "code",
   "execution_count": null,
   "metadata": {},
   "outputs": [],
   "source": [
    "def invertir_diccionario(diccionario): \n",
    "\n",
    "    if len(set(diccionario.values())) != len(diccionario):  \n",
    "        print(\"Advertencia: Los valores en el diccionario no son únicos.\")  \n",
    "        return None \n",
    "    diccionario_invertido = {valor: clave for clave, valor in diccionario.items()}  \n",
    "    return diccionario_invertido \n",
    "\n",
    "encuesta = {\n",
    "    \"audi\": \"rojo\",\n",
    "    \"bmw\": \"azul\",\n",
    "    \"opel\": \"gris\",\n",
    "    \"volkswagen\" : \"verde\", # Para probar el programa cambiar verde por rojo así tenemos un duplicado y nos debe saltar el mensaje de Advertencia.\n",
    "    \"seat\" : \"blanco\"\n",
    "}\n",
    "\n",
    "diccionario_invertido = invertir_diccionario(encuesta)  \n",
    "\n",
    "if diccionario_invertido is not None:  \n",
    "    print(f\"Diccionario original:\\n{encuesta}\")  \n",
    "    print(f\"Diccionario invertido\\n{diccionario_invertido}\")  \n"
   ]
  },
  {
   "cell_type": "markdown",
   "metadata": {},
   "source": [
    "# -NIVEL 2-\n",
    "EJERCICIO 1: DICCIONARIO INVERSO CON DUPLICADOS\n",
    "\n",
    "Continuando con el ejercicio 4 del nivel 1: al cliente se le olvidó mencionar un detalle y resulta que los valores en el diccionario original pueden duplicarse y más, por lo que las claves intercambiadas pueden tener duplicados. En tales casos, los valores del diccionario resultante deberán almacenarse como una lista. Ten en cuenta que un valor único no debe ser una lista.\"\n",
    "\n"
   ]
  },
  {
   "cell_type": "code",
   "execution_count": null,
   "metadata": {},
   "outputs": [],
   "source": [
    "def invertir_diccionario(diccionario):\n",
    "    # Verificar si los valores son únicos\n",
    "    valores_repetidos = []\n",
    "    if len(set(diccionario.values())) != len(diccionario):\n",
    "        valores_repetidos = [(clave, valor) for clave, valor in diccionario.items() if list(diccionario.values()).count(valor) > 1]\n",
    "    # Intercambiar claves y valores\n",
    "    diccionario_invertido = {valor: clave for clave, valor in diccionario.items()}\n",
    "    # Verificar si \"valores_repetidos\" ya existe en el diccionario invertido\n",
    "    if \"valores_repetidos\" in diccionario_invertido:\n",
    "        # Si ya existe, generar un nombre único para la clave\n",
    "        i = 1\n",
    "        while f\"valores_repetidos_{i}\" in diccionario_invertido:\n",
    "            i += 1\n",
    "        diccionario_invertido[f\"valores_repetidos_{i}\"] = valores_repetidos\n",
    "    else:\n",
    "        # Si no existe, simplemente agregarlo\n",
    "        diccionario_invertido[\"valores_repetidos\"] = valores_repetidos\n",
    "\n",
    "    return diccionario_invertido\n",
    "\n",
    "# Creo el diccionario encuesta\n",
    "encuesta = {\n",
    "    \"audi\": \"rojo\",\n",
    "    \"bmw\": \"azul\",\n",
    "    \"opel\": \"gris\",\n",
    "    \"volkswagen\" : \"rojo\", # Para probar el programa cambiar verde por rojo así tenemos un duplicado .\n",
    "    \"seat\" : \"blanco\",\n",
    "}\n",
    "\n",
    "# Llamo a la función invertir_diccionario \n",
    "diccionario_invertido = invertir_diccionario(encuesta)\n",
    "\n",
    "# Verifico si el diccionario invertido no es None\n",
    "if diccionario_invertido is not None:  \n",
    "    # Imprimo el diccionario original\n",
    "    print(f\"Diccionario original:\\n{encuesta}\")  \n",
    "    # Imprimo el diccionario invertido\n",
    "    print(f\"Diccionario invertido\\n{diccionario_invertido}\")  \n"
   ]
  },
  {
   "cell_type": "markdown",
   "metadata": {},
   "source": [
    "\n",
    "EJERCICIO 2: CONVERSIÓN DE TIPOS DE DATOS  \n",
    "\n",
    "El cliente recibe una lista de datos y necesita generar dos listas, la primera donde estarán todos los elementos que se pueden convertir en flotantes y la otra donde están los elementos que no se pudieron convertir. Ejemplo de la lista que recibe el cliente: ['1.3', 'one', '1e10', 'seven', '3-1/2', ('2', 1, 1.4, 'not-a-number'), [1, 2, '3', '3.4'] ]\n",
    "\n"
   ]
  },
  {
   "cell_type": "code",
   "execution_count": null,
   "metadata": {},
   "outputs": [],
   "source": [
    "\n",
    "\n",
    "lista_cliente = ['1.3', 'one', '1e10', 'seven', '3-1/2',('2', 1, 1.4, 'not-a-number'), [1, 2, '3', '3.4']] \n",
    "\n",
    "lista_flotantes = []\n",
    "lista_no_flotantes = []\n",
    "\n",
    "for elemento in lista_cliente:\n",
    "    try:\n",
    "        float_elemento = float(elemento)\n",
    "        lista_flotantes.append(elemento)\n",
    "    except :\n",
    "        lista_no_flotantes.append(elemento)\n",
    "\n",
    "print(f'Elementos flotantes: {lista_flotantes}')\n",
    "print(f'Elementos no flotantes: {lista_no_flotantes}')\n",
    "\n",
    "\n"
   ]
  },
  {
   "cell_type": "markdown",
   "metadata": {},
   "source": [
    "# -Nivel 3-\n",
    "Ejercicio 1: Contador y ordenador de palabras de un texto.  \n",
    "\n",
    "El cliente quedó satisfecho con el contador de palabras, pero ahora quiere leer archivos TXT y que calcule la frecuencia de cada palabra       ordenadas según las entradas habituales del diccionario según la letra con la que comienzan, es decir, las claves deben ir de la A a la Z y   dentro de la A deben ir de la A a la Z. Por ejemplo, para el archivo \"tu_me_quieres_blanca.txt\" la salida esperada sería:"
   ]
  },
  {
   "cell_type": "code",
   "execution_count": null,
   "metadata": {},
   "outputs": [],
   "source": [
    "import collections  # Importa el módulo collections para utilizar defaultdict\n",
    "import re  # Importa el módulo re para utilizar expresiones regulares\n",
    "\n",
    "# Función para contar la frecuencia de palabras en un archivo de texto\n",
    "def count_words(file_name):\n",
    "    # Abre el archivo en modo lectura y utiliza un contexto para garantizar su cierre adecuado\n",
    "    with open(file_name, 'r') as file:\n",
    "        # Lee el contenido del archivo y lo convierte a minúsculas para un conteo de palabras sin distinción de mayúsculas\n",
    "        text = file.read().lower()\n",
    "        \n",
    "        # Encuentra todas las palabras en el texto utilizando una expresión regular\n",
    "        words = re.findall(r'\\b\\w+\\b', text)\n",
    "        \n",
    "        # Crea un diccionario para almacenar la frecuencia de cada palabra\n",
    "        word_freq = collections.defaultdict(int)\n",
    "        \n",
    "        # Itera sobre cada palabra encontrada y cuenta su frecuencia\n",
    "        for word in words:\n",
    "            word_freq[word] += 1\n",
    "        \n",
    "        # Ordena el diccionario alfabéticamente por las claves y convierte el resultado a un diccionario estándar\n",
    "        word_freq = dict(sorted(word_freq.items()))\n",
    "        \n",
    "        # Devuelve el diccionario que contiene la frecuencia de las palabras\n",
    "        return word_freq\n",
    "\n",
    "# Función principal del programa\n",
    "def main():\n",
    "    # Nombre del archivo de texto a procesar\n",
    "    file_name = \"tu_me_quieres_blanca.txt\"\n",
    "    \n",
    "    # Llama a la función para contar las palabras y obtiene el diccionario con las frecuencias\n",
    "    word_freq = count_words(file_name)\n",
    "    \n",
    "    # Itera sobre el diccionario ordenado alfabéticamente e imprime cada palabra junto con su frecuencia\n",
    "    for key, value in sorted(word_freq.items()):\n",
    "        print(f\"{key}: {value}\")\n",
    "\n",
    "# Verifica si este script está siendo ejecutado directamente y, en ese caso, llama a la función main()\n",
    "if __name__ == \"__main__\":\n",
    "    main()\n"
   ]
  }
 ],
 "metadata": {
  "kernelspec": {
   "display_name": "Python 3",
   "language": "python",
   "name": "python3"
  },
  "language_info": {
   "codemirror_mode": {
    "name": "ipython",
    "version": 3
   },
   "file_extension": ".py",
   "mimetype": "text/x-python",
   "name": "python",
   "nbconvert_exporter": "python",
   "pygments_lexer": "ipython3",
   "version": "3.12.2"
  }
 },
 "nbformat": 4,
 "nbformat_minor": 2
}
