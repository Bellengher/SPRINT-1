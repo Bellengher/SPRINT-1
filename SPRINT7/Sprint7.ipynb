{
 "cells": [
  {
   "cell_type": "markdown",
   "metadata": {},
   "source": [
    "# *** Sprint 7: Nociones y conocimientos básicos de Python ***"
   ]
  },
  {
   "cell_type": "markdown",
   "metadata": {},
   "source": [
    "# -NIVEL 1-\n",
    "\n",
    "# EJERCICIO 1: CALCULADORA DE INDICE DE MASA CORPORAL\n",
    "* Presentación y declaración de variables:  \n",
    "    * 1º Muestro un mensaje donde el programa se presenta de una manera cordial.  \n",
    "    * 2º Declaro una variable (vnombre) para que el usuario ingrese su nombre mediante un input.  \n",
    "* Bucle while para ingresar estatura y bloque if para confirmar utilización de punto decimal:      \n",
    "    * 1º Utilizo un bucle while donde por medio de un input se almacenará en la variable (vestatura) la estatura del usuario que tendrá la condicion de que utilice un punto (.)  en lugar de coma (,) para los decimales.  \n",
    "    * 2º Hago un casting para que el valor de vestatura sea float. \n",
    "* Bucle while para ingresar peso y bloque if para confirmar utilización de punto decimal:  \n",
    "    * 1º Utilizo otro bucle while para que por medio de otro input se almacene el peso en la variable vpeso y al igual que en el bucle anterior se pone la condición de que se utilice (.) en lugar de (,) para los decimales.  \n",
    "    * 2º Hago un casting para que el valor de vpeso sea float.  \n",
    "* Calculo de la IMC:  \n",
    "    * 1º Hago la fórmula para encontrar el indice de masa corporal que asignaré en la variable imc y con round indico que sólo quiero mostrar 2 decimales.  \n",
    "* Valoración del resultado y respuesta del programa:  \n",
    "    * 1º Con un bloque if valoro el resultado de la variable imc y muestro con print el mensaje según las indicaciones del ejercicio,  \n",
    "    * 2º Utilizo un print para mostrar un mensaje de despedida donde incluyo el nombre el ususario para hacerlo más personal.  "
   ]
  },
  {
   "cell_type": "code",
   "execution_count": 1,
   "metadata": {},
   "outputs": [
    {
     "name": "stdout",
     "output_type": "stream",
     "text": [
      "Hola, soy Jarvis tu asistente de salud, vamos a averiguar tu índice de masa corporal.\n",
      "Muy bien Javi.\n",
      "Por favor, utiliza un punto en lugar de una coma para los decimales.\n",
      "Tu índice de masa corporal es: 24.85 . Tienes un peso normal.\n",
      "Adiós Javi. \n"
     ]
    }
   ],
   "source": [
    "print('Hola, soy Jarvis tu asistente de salud, vamos a averiguar tu índice de masa corporal.')\n",
    "\n",
    "vnombre = input('¿Cuál es tu nombre?: ')     \n",
    "vnombre = vnombre.capitalize()  \n",
    "print(f'Muy bien {vnombre}.')\n",
    "\n",
    "while True:\n",
    "    vestatura = input('¿Cuál es tu estatura en metros?(utiliza . para decimales por favor): ')  \n",
    "    if ',' in vestatura:   \n",
    "        print(f'Por favor {vnombre}, utiliza un punto en lugar de una coma para los decimales.')\n",
    "    else:\n",
    "        break  \n",
    "vestatura = float(vestatura)  \n",
    "while True:\n",
    "    vpeso = input('¿Cuál es tu peso en kilogramos?(utiliza . para decimales por favor): ')  \n",
    "    if ',' in vpeso:  \n",
    "        print(\"Por favor, utiliza un punto en lugar de una coma para los decimales.\")\n",
    "    else:\n",
    "        break  \n",
    "vpeso = float(vpeso)\n",
    "\n",
    "imc = round(vpeso / (vestatura ** 2), 2)   \n",
    "\n",
    "if imc < 18.5:\n",
    "    print (f'Tu índice de masa corporal es: {imc} . Tienes bajo peso.')\n",
    "elif imc < 25:\n",
    "    print(f'Tu índice de masa corporal es: {imc} . Tienes un peso normal.')\n",
    "elif imc < 30:\n",
    "    print(f'Tu índice de masa corporal es: {imc} . Tienes sobrepeso.')\n",
    "else:\n",
    "    print(f'Tu índice de masa corporal es: {imc} . Tienes obesidad.')\n",
    "\n",
    "print(f'Adiós {vnombre}. ')\n"
   ]
  },
  {
   "cell_type": "markdown",
   "metadata": {},
   "source": [
    "# EJERCICIO 2: CONVERSOR DE TEMPERATURAS\n",
    "* Creo la lista opciones_sistema_temp donde almacenos las iniciales de los sistemas de medidas que utilizaré.  \n",
    "* Bucle while para ingresar la temperatura:    \n",
    "    * 1º Utilizo try para confirmar que el valor ingresado es un número que he casteado como float, de ser así sale del bucle.    \n",
    "    * 2º Si el la condicion anterior no se cumple el except hace un print de un mensaje solicitando un número para temperatura y continuan con el bucle.    \n",
    "* Bucle while para validar sistema de temperatura de entrada:  \n",
    "    * 1º Por medio de un input se solicita al usuario que escoja una de las opciones mostradas, que se asignará en la variable vsistempin.    \n",
    "    * 2º Uso upper para que el valor esté en mayúscula y compruebo si vsistempin está en la lista de opciones en cuyo caso lo elimina de la lista y sale del bucle , de no ser así muestra un mensaje solicitando que ingrese el valor nuevamente y continúa el bucle.    \n",
    "* Bucle while para validar sistema de temperatura de salida:  \n",
    "    * 1º Con otro input pregunto el sistema que desea utilizar para la salida mostrando la lista opciones_sistema_temp donde ya se ha eliminado la opción escogida en el paso anterior y lo almacene en la variable vsistempout.    \n",
    "    * 2º Uso upper para que el valor esté en mayúscula y compruebo si vsistempout está en la lista de opciones en cuyo caso sale del bucle , de no ser así muestra un mensaje solicitando que ingrese el valor nuevamente y continúa el bucle.\n",
    "* Bloque if para hacer la conversión:  \n",
    "    * 1º En distintos puntos de este bloque buscará el valor que coincida con vsistempin.  \n",
    "    * 2º Una vez encontrado hará los mismo con vsistempout y porcederá a utilizar la fórmula correspondiente para realizar la conversión utilizando round,2 para que el resultadp se muestre con dos decimales.  \n",
    "* Se muestra un print informando lo que va a hacer el programa con la información de las variables ingresadas por el usuario.  \n",
    "* Finalmente otro print muestra el resultado con información para su interpretación.   "
   ]
  },
  {
   "cell_type": "code",
   "execution_count": 76,
   "metadata": {},
   "outputs": [
    {
     "name": "stdout",
     "output_type": "stream",
     "text": [
      "Por favor, ingresa un número para la temperatura.\n",
      "Quieres convertir 56.0 grados F a grados C\n",
      "El resultado de la conversión es: 13.33 grados C\n"
     ]
    }
   ],
   "source": [
    "opciones_sistema_temp = ['C', 'F', 'K']\n",
    "\n",
    "while True:\n",
    "    try:\n",
    "        vtemperatura = float(input('Dime una temperatura: '))\n",
    "        break\n",
    "    except ValueError:\n",
    "        print(\"Por favor, ingresa un número para la temperatura.\")\n",
    "\n",
    "while True:\n",
    "    vsistempin = input('De qué sistema es esta temperatura? (C para Celsius, F para Fahrenheit o K para Kelvin): ').upper()\n",
    "\n",
    "    if vsistempin in opciones_sistema_temp:\n",
    "        opciones_sistema_temp.remove(vsistempin)\n",
    "        break \n",
    "    else:\n",
    "        print('Opción no válida. Por favor, elige entre C para Celsius, F para Fahrenheit o K para Kelvin.')\n",
    "\n",
    "while True:\n",
    "    vsistempout = input(f'A qué sistema quieres convertirlo? {opciones_sistema_temp} ').upper()\n",
    "\n",
    "    if vsistempout in opciones_sistema_temp:\n",
    "        break\n",
    "    else:\n",
    "        print(f'Opción no válida, escoge entre estas opciones: {opciones_sistema_temp}')\n",
    " \n",
    "if vsistempin == 'C':\n",
    "    if vsistempout == 'F':\n",
    "        resultado = round((vtemperatura * 9/5) + 32 ,2)\n",
    "    elif vsistempout == 'K':\n",
    "        resultado = round(vtemperatura + 273.15 ,2)\n",
    "\n",
    "elif vsistempin == 'F':\n",
    "    if vsistempout == 'C':\n",
    "        resultado = round((vtemperatura - 32) * 5/9 ,2)\n",
    "    elif vsistempout == 'K':\n",
    "        resultado = round(((vtemperatura - 32) * 5/9) + 273.15 ,2)\n",
    "\n",
    "elif vsistempin == 'K':\n",
    "    if vsistempout == 'C':\n",
    "        resultado = round(vtemperatura - 273.15 ,2)\n",
    "    elif vsistempout == 'F':\n",
    "        resultado = round((vtemperatura - 273.15) * 9/5 + 32 ,2)\n",
    "\n",
    "print(f'Quieres convertir {vtemperatura} grados {vsistempin} a grados {vsistempout}')\n",
    "print(f'El resultado de la conversión es: {resultado} grados {vsistempout}')\n"
   ]
  },
  {
   "cell_type": "markdown",
   "metadata": {},
   "source": [
    "# EJERCICIO 3: CONTADOR DE PALABRAS DE UN TEXTO\n",
    "Escribe una función que dado un texto, muestre las veces que aparece cada palabra.  \n",
    "* Importo el módulo string que contiene los signos de puntuación.  \n",
    "* Defino la función contador_de_palabras que es la encargada del conteo:  \n",
    "    * 1º Creo una variable texto_limpio donde se almacenará el texto eliminando los signos de puntuación utilizando el método string.  \n",
    "    * 2º Con la función split divido la variable texto_limpio en una lista palabras.  \n",
    "    * 3º Creo un diccionario llamado ocurrencias donde se irán almacenando como clave la palabra y como valor el conteo.  \n",
    "* Bucle for para iterar cada palabra de la lista:  \n",
    "    * 1º Me aseguro de que todas las palabras sean minúsculas con la función lower.  \n",
    "    * 2º Con un bloque if compruebo si la palabra solo contiene letras utilizando la función isalpha.  \n",
    "    * 3º Si la palabra ya está en el diccionario ocurrencias incrementa el conteo de dicha palabra en el diccionario.  \n",
    "    * 4º De no estar ase agregará la palabra al diccionario con un conteo de 1.  \n",
    "* Bucle for que itera el diccionario ocurrencias para por medio de un print muestre la clave y el valor de cada elemento que son palabra:conteo.  \n",
    "* Muestra un input solicitando el ingreso de un texto que será asignado a la variable texto.  \n",
    "* Por medio de un print se muestra el texto tal cual se ha ingresado.  \n",
    "* Otro print muestra un mensaje indicando la acción que ejecutará el programa.  \n",
    "* Se llama a la función contador_de_palabras para que se ejecute.\n"
   ]
  },
  {
   "cell_type": "code",
   "execution_count": 5,
   "metadata": {},
   "outputs": [
    {
     "name": "stdout",
     "output_type": "stream",
     "text": [
      "El texto es: \n",
      "Aquí está el conteo:\n"
     ]
    }
   ],
   "source": [
    "import string  \n",
    "\n",
    "def contador_de_palabras(texto):  \n",
    "    texto_limpio = ''.join(caracter for caracter in texto if caracter not in string.punctuation) \n",
    "    palabras = texto_limpio.split()\n",
    "    ocurrencias = {}\n",
    "    \n",
    "    for palabra in palabras:\n",
    "        palabra = palabra.lower() \n",
    "        if palabra.isalpha(): \n",
    "            if palabra in ocurrencias:  \n",
    "                ocurrencias[palabra] += 1  \n",
    "            else:\n",
    "                ocurrencias[palabra] = 1  \n",
    "    \n",
    "    for palabra, conteo in ocurrencias.items():\n",
    "        print(f'{palabra}: {conteo}')\n",
    "\n",
    "texto = input('Hola, ingresa el texto que quieras que te cuente la cantidad de veces que aparece cada palabra: ')\n",
    "print(f'El texto es: {texto}')  \n",
    "print('Aquí está el conteo:')  \n",
    "contador_de_palabras(texto)  "
   ]
  },
  {
   "cell_type": "markdown",
   "metadata": {},
   "source": [
    "# EJERCICIO 4: DICCIONARIO INVERSO\n",
    "\n",
    "Resulta que el cliente tiene una encuesta muy antigua que se almacena en un diccionario y los resultados los necesita al revés, es decir, intercambiados las claves y los valores. Los valores y claves en el diccionario original son únicos; si este no es el caso, la función debería imprimir un mensaje de advertencia.  \n",
    "* Defino la función invertir_diccionario:  \n",
    "* Bloque if para buscar repetidos:  \n",
    "    * 1º Hago un set con los values del diccionario y contabilizo la cantidad de elementos y la comparo con la cantidad de elemmentos que tiene diccionario originalmente , teniendo en cuenta que el set no admite duplicados por lo que si la cantidad de elementos es distinta quiere decir que había values repetidos.  \n",
    "        * De confirmarce lo anterior se muestra un mensaje de Advertencia por medio de un print además de return None lo que quiere decir que no hay un valor.  \n",
    "    * 2º De no cumplirce el if quiere decir que no hay repetidos ya que ambos len darían como resultado el mismo número de elementos y en este caso crearía un diccionario_invertido donde se indica que ce intercambian las posiciones de clave : valor iterando todos los items del diccionario original.  \n",
    "        * En este caso esta parte del codigo haría return diccionario_invertido.  \n",
    "* Creación del diccionario:\n",
    "    * Se crea un diccionario llamado encuesta donde la clave son marcas de coches y el valor colores. \n",
    "* Se llama a la función invertir_diccionario y se indica el nombre del diccionario (encuesta).  \n",
    "* Bloque if que se ejecutará solo si diccionario_invertido tiene algún valor es decir is not None. \n",
    "    * Un print nos muestra el diccionario original.  \n",
    "    * Otro print nos muestra el diccionario invertido.  \n",
    "        "
   ]
  },
  {
   "cell_type": "code",
   "execution_count": 17,
   "metadata": {},
   "outputs": [
    {
     "name": "stdout",
     "output_type": "stream",
     "text": [
      "{'audi': 'rojo', 'bmw': 'azul', 'opel': 'gris', 'volkswagen': 'rojo', 'seat': 'blanco'}\n",
      "{'gris', 'blanco', 'rojo', 'azul'}\n",
      "Advertencia: Los valores en el diccionario no son únicos.\n"
     ]
    }
   ],
   "source": [
    "def invertir_diccionario(diccionario): \n",
    "\n",
    "    if len(set(diccionario.values())) != len(diccionario): \n",
    "        print(\"Advertencia: Los valores en el diccionario no son únicos.\")  \n",
    "        return None \n",
    "    diccionario_invertido = {valor: clave for clave, valor in diccionario.items()}  \n",
    "    return diccionario_invertido \n",
    "\n",
    "encuesta = {\n",
    "    \"audi\": \"rojo\",\n",
    "    \"bmw\": \"azul\",\n",
    "    \"opel\": \"gris\",\n",
    "    \"volkswagen\" : \"rojo\", \n",
    "    \"seat\" : \"blanco\"\n",
    "}\n",
    "\n",
    "diccionario_invertido = invertir_diccionario(encuesta)  \n",
    "\n",
    "if diccionario_invertido is not None:  \n",
    "    print(f\"Diccionario original:\\n{encuesta}\")  \n",
    "    print(f\"Diccionario invertido\\n{diccionario_invertido}\")  \n"
   ]
  },
  {
   "cell_type": "markdown",
   "metadata": {},
   "source": [
    "# -NIVEL 2-\n",
    "# EJERCICIO 1: DICCIONARIO INVERSO CON DUPLICADOS\n",
    "Continuando con el ejercicio 4 del nivel 1: al cliente se le olvidó mencionar un detalle y resulta que los valores en el diccionario original pueden duplicarse y más, por lo que las claves intercambiadas pueden tener duplicados. En tales casos, los valores del diccionario resultante deberán almacenarse como una lista. Ten en cuenta que un valor único no debe ser una lista.  \n",
    "* Defino la función invertir_diccionario:  \n",
    "    * 1º Se crea una lista vacía llamada valores_repetidos.  \n",
    "        *  Bloque if que convierte el diccionario en un set y lo compara con la lista diccionario para ver si tienen la misma longitud teniendo en cuenta que los set no adminten repetido por lo que si esta comparación fuera distinta sería porque si habían repetidos.  \n",
    "* Creación del diccionario:\n",
    "    * Se crea un diccionario llamado encuesta donde la clave son marcas de coches y el valor colores. \n",
    "* Se llama a la función invertir_diccionario.  \n",
    "* Bloque if que se ejecutará solo si el valor de diccionario_invertido exista es decir is not None.   \n",
    "        \n",
    "\n",
    "\n"
   ]
  },
  {
   "cell_type": "code",
   "execution_count": 4,
   "metadata": {},
   "outputs": [
    {
     "name": "stdout",
     "output_type": "stream",
     "text": [
      "Diccionario original:\n",
      "{'audi': 'rojo', 'bmw': 'azul', 'opel': 'gris', 'volkswagen': 'rojo', 'seat': 'blanco'}\n",
      "Diccionario invertido\n",
      "{'rojo': 'volkswagen', 'azul': 'bmw', 'gris': 'opel', 'blanco': 'seat', 'valores_repetidos': [('audi', 'rojo'), ('volkswagen', 'rojo')]}\n"
     ]
    }
   ],
   "source": [
    "def invertir_diccionario(diccionario):\n",
    "    # Verificar si los valores son únicos\n",
    "    valores_repetidos = []\n",
    "    if len(set(diccionario.values())) != len(diccionario):\n",
    "        valores_repetidos = [(clave, valor) for clave, valor in diccionario.items() if list(diccionario.values()).count(valor) > 1]\n",
    "    # Intercambiar claves y valores\n",
    "    diccionario_invertido = {valor: clave for clave, valor in diccionario.items()}\n",
    "    # Verificar si \"valores_repetidos\" ya existe en el diccionario invertido\n",
    "    if \"valores_repetidos\" in diccionario_invertido:\n",
    "        # Si ya existe, generar un nombre único para la clave\n",
    "        i = 1\n",
    "        while f\"valores_repetidos_{i}\" in diccionario_invertido:\n",
    "            i += 1\n",
    "        diccionario_invertido[f\"valores_repetidos_{i}\"] = valores_repetidos\n",
    "    else:\n",
    "        # Si no existe, simplemente agregarlo\n",
    "        diccionario_invertido[\"valores_repetidos\"] = valores_repetidos\n",
    "\n",
    "    return diccionario_invertido\n",
    "\n",
    "# Creo el diccionario encuesta\n",
    "encuesta = {\n",
    "    \"audi\": \"rojo\",\n",
    "    \"bmw\": \"azul\",\n",
    "    \"opel\": \"gris\",\n",
    "    \"volkswagen\" : \"rojo\", # Para probar el programa cambiar verde por rojo así tenemos un duplicado .\n",
    "    \"seat\" : \"blanco\",\n",
    "}\n",
    "\n",
    "# Llamo a la función invertir_diccionario \n",
    "diccionario_invertido = invertir_diccionario(encuesta)\n",
    "\n",
    "# Verifico si el diccionario invertido no es None\n",
    "if diccionario_invertido is not None:  \n",
    "    # Imprimo el diccionario original\n",
    "    print(f\"Diccionario original:\\n{encuesta}\")  \n",
    "    # Imprimo el diccionario invertido\n",
    "    print(f\"Diccionario invertido\\n{diccionario_invertido}\")  \n"
   ]
  },
  {
   "cell_type": "code",
   "execution_count": null,
   "metadata": {},
   "outputs": [],
   "source": [
    "def invertir_diccionario(diccionario):\n",
    "    # Verificar si los valores son únicos\n",
    "    valores_repetidos = []\n",
    "    if len(set(diccionario.values())) != len(diccionario):\n",
    "        valores_repetidos = [(clave, valor) for clave, valor in diccionario.items() if list(diccionario.values()).count(valor) > 1]\n",
    "    # Intercambiar claves y valores\n",
    "    diccionario_invertido = {valor: clave for clave, valor in diccionario.items()}\n",
    "    # Verificar si \"valores_repetidos\" ya existe en el diccionario invertido\n",
    "    if \"valores_repetidos\" in diccionario_invertido:\n",
    "        # Si ya existe, generar un nombre único para la clave\n",
    "        i = 1\n",
    "        while f\"valores_repetidos_{i}\" in diccionario_invertido:\n",
    "            i += 1\n",
    "        diccionario_invertido[f\"valores_repetidos_{i}\"] = valores_repetidos\n",
    "    else:\n",
    "        # Si no existe, simplemente agregarlo\n",
    "        diccionario_invertido[\"valores_repetidos\"] = valores_repetidos\n",
    "\n",
    "    return diccionario_invertido\n",
    "\n",
    "# Creo el diccionario encuesta\n",
    "encuesta = {\n",
    "    \"audi\": \"rojo\",\n",
    "    \"bmw\": \"azul\",\n",
    "    \"opel\": \"gris\",\n",
    "    \"volkswagen\" : \"rojo\", # Para probar el programa cambiar verde por rojo así tenemos un duplicado .\n",
    "    \"seat\" : \"blanco\",\n",
    "}\n",
    "\n",
    "# Llamo a la función invertir_diccionario \n",
    "diccionario_invertido = invertir_diccionario(encuesta)\n",
    "\n",
    "# Verifico si el diccionario invertido no es None\n",
    "if diccionario_invertido is not None:  \n",
    "    # Imprimo el diccionario original\n",
    "    print(f\"Diccionario original:\\n{encuesta}\")  \n",
    "    # Imprimo el diccionario invertido\n",
    "    print(f\"Diccionario invertido\\n{diccionario_invertido}\")  \n"
   ]
  },
  {
   "cell_type": "markdown",
   "metadata": {},
   "source": [
    "\n",
    "# EJERCICIO 2: CONVERSIÓN DE TIPOS DE DATOS  \n",
    "El cliente recibe una lista de datos y necesita generar dos listas, la primera donde estarán todos los elementos que se pueden convertir en flotantes y la otra donde están los elementos que no se pudieron convertir. Ejemplo de la lista que recibe el cliente: ['1.3', 'one', '1e10', 'seven', '3-1/2', ('2', 1, 1.4, 'not-a-number'), [1, 2, '3', '3.4'] ]\n",
    "* Creacion de listas.  \n",
    "    * Procedo a crear la lista proporcionada en el ejercicio además de dos listas donde se almacenarán los flotantes y no flotantes respectivamente.  \n",
    "* Bucle for para iterar los elementos de la lista poporcionada.  \n",
    "    * 1º Utilizo try para que el programa revise si el elemento es float y de ser así con la función append lo añada a la lista_flotantes.  \n",
    "    * 2º con except indico que de no cumplirce la condición del try se agrege el elemento a la lista_no_flotantes con la función append.  \n",
    "* Impresión de resultados:  \n",
    "    * 1º Un print muestra los elementos de la lista_flotantes.  \n",
    "    * 2º Otro print muestra los elementos de la lista_no_flotantes.    "
   ]
  },
  {
   "cell_type": "code",
   "execution_count": 6,
   "metadata": {},
   "outputs": [
    {
     "name": "stdout",
     "output_type": "stream",
     "text": [
      "Elementos flotantes: ['1.3', '1e10']\n",
      "Elementos no flotantes: ['one', 'seven', '3-1/2', ('2', 1, 1.4, 'not-a-number'), [1, 2, '3', '3.4']]\n"
     ]
    }
   ],
   "source": [
    "lista_cliente = ['1.3', 'one', '1e10', 'seven', '3-1/2',('2', 1, 1.4, 'not-a-number'), [1, 2, '3', '3.4']] \n",
    "\n",
    "lista_flotantes = []\n",
    "lista_no_flotantes = []\n",
    "\n",
    "for elemento in lista_cliente:\n",
    "    try:\n",
    "        float_elemento = float(elemento)\n",
    "        lista_flotantes.append(elemento)\n",
    "    except :\n",
    "        lista_no_flotantes.append(elemento)\n",
    "\n",
    "print(f'Elementos flotantes: {lista_flotantes}')\n",
    "print(f'Elementos no flotantes: {lista_no_flotantes}')\n",
    "\n",
    "\n"
   ]
  },
  {
   "cell_type": "markdown",
   "metadata": {},
   "source": [
    "# -Nivel 3-\n",
    "* EJERCICIO 1: Contador y ordenador de palabras de un texto.  \n",
    "\n",
    "El cliente quedó satisfecho con el contador de palabras, pero ahora quiere leer archivos TXT y que calcule la frecuencia de cada palabra       ordenadas según las entradas habituales del diccionario según la letra con la que comienzan, es decir, las claves deben ir de la A a la Z y   dentro de la A deben ir de la A a la Z. Por ejemplo, para el archivo \"tu_me_quieres_blanca.txt\" la salida esperada sería:\n"
   ]
  },
  {
   "cell_type": "code",
   "execution_count": null,
   "metadata": {},
   "outputs": [],
   "source": [
    "import collections  # Importa el módulo collections para utilizar defaultdict\n",
    "import re  # Importa el módulo re para utilizar expresiones regulares\n",
    "\n",
    "# Función para contar la frecuencia de palabras en un archivo de texto\n",
    "def count_words(file_name):\n",
    "    # Abre el archivo en modo lectura y utiliza un contexto para garantizar su cierre adecuado\n",
    "    with open(file_name, 'r') as file:\n",
    "        # Lee el contenido del archivo y lo convierte a minúsculas para un conteo de palabras sin distinción de mayúsculas\n",
    "        text = file.read().lower()\n",
    "        \n",
    "        # Encuentra todas las palabras en el texto utilizando una expresión regular\n",
    "        words = re.findall(r'\\b\\w+\\b', text)\n",
    "        \n",
    "        # Crea un diccionario para almacenar la frecuencia de cada palabra\n",
    "        word_freq = collections.defaultdict(int)\n",
    "        \n",
    "        # Itera sobre cada palabra encontrada y cuenta su frecuencia\n",
    "        for word in words:\n",
    "            word_freq[word] += 1\n",
    "        \n",
    "        # Ordena el diccionario alfabéticamente por las claves y convierte el resultado a un diccionario estándar\n",
    "        word_freq = dict(sorted(word_freq.items()))\n",
    "        \n",
    "        # Devuelve el diccionario que contiene la frecuencia de las palabras\n",
    "        return word_freq\n",
    "\n",
    "# Función principal del programa\n",
    "def main():\n",
    "    # Nombre del archivo de texto a procesar\n",
    "    file_name = \"tu_me_quieres_blanca.txt\"\n",
    "    \n",
    "    # Llama a la función para contar las palabras y obtiene el diccionario con las frecuencias\n",
    "    word_freq = count_words(file_name)\n",
    "    \n",
    "    # Itera sobre el diccionario ordenado alfabéticamente e imprime cada palabra junto con su frecuencia\n",
    "    for key, value in sorted(word_freq.items()):\n",
    "        print(f\"{key}: {value}\")\n",
    "\n",
    "# Verifica si este script está siendo ejecutado directamente y, en ese caso, llama a la función main()\n",
    "if __name__ == \"__main__\":\n",
    "    main()\n"
   ]
  }
 ],
 "metadata": {
  "kernelspec": {
   "display_name": "Python 3",
   "language": "python",
   "name": "python3"
  },
  "language_info": {
   "codemirror_mode": {
    "name": "ipython",
    "version": 3
   },
   "file_extension": ".py",
   "mimetype": "text/x-python",
   "name": "python",
   "nbconvert_exporter": "python",
   "pygments_lexer": "ipython3",
   "version": "3.12.2"
  }
 },
 "nbformat": 4,
 "nbformat_minor": 2
}
