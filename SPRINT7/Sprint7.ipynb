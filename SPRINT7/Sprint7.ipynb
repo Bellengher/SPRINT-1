{
 "cells": [
  {
   "cell_type": "markdown",
   "metadata": {},
   "source": [
    "# -NIVEL 1-"
   ]
  },
  {
   "cell_type": "markdown",
   "metadata": {},
   "source": [
    " EJERCICIO 1: CALCULADORA DE INDICE DE MASA CORPORAL\n"
   ]
  },
  {
   "cell_type": "code",
   "execution_count": 10,
   "metadata": {},
   "outputs": [
    {
     "name": "stdout",
     "output_type": "stream",
     "text": [
      "Hola, soy Jarvis tu asistente de salud, vamos a averiguar tu índice de masa corporal.\n",
      "Muy bien Javi.\n",
      "Tu índice de masa corporal es: 30.22. Tienes obesidad.\n",
      "Adiós Javi. \n"
     ]
    }
   ],
   "source": [
    "print('Hola, soy Jarvis tu asistente de salud, vamos a averiguar tu índice de masa corporal.')\n",
    "\n",
    "vnombre = input('¿Cuál es tu nombre?: ')    #solicito el nombre \n",
    "vnombre = vnombre.capitalize()  \n",
    "print(f'Muy bien {vnombre}.')\n",
    "\n",
    "while True:\n",
    "    vestatura = input('¿Cuál es tu estatura en metros?(utiliza . para decimales por favor): ')  #ingreso de la estatura\n",
    "    if ',' in vestatura:    #se confirma que no se utiliza , en lugar de .\n",
    "        print(f'Por favor {vnombre}, utiliza un punto en lugar de una coma para los decimales.')\n",
    "    else:\n",
    "        break  \n",
    "\n",
    "vestatura = float(vestatura)  \n",
    "while True:\n",
    "    vpeso = input('¿Cuál es tu peso en kilogramos?(utiliza . para decimales por favor): ')  #se ingresa el peso\n",
    "    if ',' in vpeso:    #se confirma que no se utiliza , en lugar de .\n",
    "        print(\"Por favor, utiliza un punto en lugar de una coma para los decimales.\")\n",
    "    else:\n",
    "        break  \n",
    "\n",
    "vpeso = float(vpeso)\n",
    "imc = round(vpeso / (vestatura ** 2), 2)    #formula de IMC + redondeo a 2 decimales\n",
    "\n",
    "#se valora el resultado para mostrar la salida correspondiente\n",
    "if imc < 18.5:\n",
    "    print (f'Tu índice de masa corporal es: {imc} . Tienes bajo peso.')\n",
    "elif imc < 25:\n",
    "    print(f'Tu índice de masa corporal es: {imc} . Tienes un peso normal.')\n",
    "elif imc < 30:\n",
    "    print(f'Tu índice de masa corporal es: {imc} . Tienes sobrepeso.')\n",
    "else:\n",
    "    print(f'Tu índice de masa corporal es: {imc} . Tienes obesidad.')\n",
    "\n",
    "print(f'Adiós {vnombre}. ')\n"
   ]
  },
  {
   "cell_type": "markdown",
   "metadata": {},
   "source": [
    "EJERCICIO 2: CONVERSOR DE TEMPERATURAS \n",
    "\n"
   ]
  },
  {
   "cell_type": "code",
   "execution_count": 19,
   "metadata": {},
   "outputs": [
    {
     "name": "stdout",
     "output_type": "stream",
     "text": [
      "Hola, vamos a convertir los distintos tipos de temperatura.\n",
      "v  no es una opcion valida,por favor elige una opción: C para Celsius, F para Fahrenheit o K Kelvin\n",
      "v  no es una opcion valida,por favor elige una opción: C para Celsius, F para Fahrenheit o K Kelvin\n",
      "Has seleccionado el mismo sistema. Por favor, elige una opción diferente: C para Celsius, F para Fahrenheit o K Kelvin\n",
      "Quieres convertir 44.0 grados C a grados K\n",
      "El resultado de la conversión es: 317.15 grados K\n"
     ]
    }
   ],
   "source": [
    "print('Hola, vamos a convertir los distintos tipos de temperatura.')\n",
    "\n",
    "opciones_sistema_temp = ['C', 'F', 'K']\n",
    "resultado = 0\n",
    "vtemperatura = float(input('Dime una temperatura: '))\n",
    "\n",
    "# Validar el sistema de temperatura de entrada\n",
    "while True:\n",
    "    vsistempin = input('En qué sistema es esta temperatura? (C para Celsius, F para Fahrenheit o K para Kelvin): ')\n",
    "\n",
    "    if vsistempin.upper() in opciones_sistema_temp:\n",
    "        break\n",
    "    else:\n",
    "        print('Opción no válida. Por favor, elige entre C para Celsius, F para Fahrenheit o K Kelvin.')\n",
    "\n",
    "# Validar el sistema de temperatura de salida\n",
    "while True:\n",
    "    vsistempout = input('A qué sistema quieres convertirlo? (C para Celsius, F para Fahrenheit o K Kelvin): ')\n",
    "\n",
    "    if vsistempout.upper() in opciones_sistema_temp:\n",
    "        if vsistempout.upper() != vsistempin.upper():  # Verificar si la salida es diferente de la entrada\n",
    "            break\n",
    "        else:\n",
    "            print('Has seleccionado el mismo sistema. Por favor, elige una opción diferente: C para Celsius, F para Fahrenheit o K Kelvin')\n",
    "    else:\n",
    "        print(f' {vsistempout} no es una opcion valida,por favor elige una opción: C para Celsius, F para Fahrenheit o K Kelvin')\n",
    "\n",
    "# Parte donde se hace la conversión de unidades\n",
    "if vsistempin.upper() == 'C':\n",
    "    if vsistempout.upper() == 'F':\n",
    "        resultado = round((vtemperatura * 9/5) + 32, 2)\n",
    "    elif vsistempout.upper() == 'K':\n",
    "        resultado = round(vtemperatura + 273.15, 2)\n",
    "\n",
    "elif vsistempin.upper() == 'F':\n",
    "    if vsistempout.upper() == 'C':\n",
    "        resultado = round((vtemperatura - 32) * 5/9, 2)\n",
    "    elif vsistempout.upper() == 'K':\n",
    "        resultado = round(((vtemperatura - 32) * 5/9) + 273.15, 2)\n",
    "\n",
    "elif vsistempin.upper() == 'K':\n",
    "    if vsistempout.upper() == 'C':\n",
    "        resultado = round(vtemperatura - 273.15, 2)\n",
    "    elif vsistempout.upper() == 'F':\n",
    "        resultado = round((vtemperatura - 273.15) * 9/5 + 32, 2)\n",
    "\n",
    "# Imprimir el resultado de la conversión\n",
    "print(f'Quieres convertir {vtemperatura} grados {vsistempin.upper()} a grados {vsistempout.upper()}')\n",
    "print(f'El resultado de la conversión es: {resultado} grados {vsistempout.upper()}')\n"
   ]
  },
  {
   "cell_type": "markdown",
   "metadata": {},
   "source": [
    "EJERCICIO 3: CONTADOR DE PALABRAS DE UN TEXTO\n",
    "\n",
    "Escribe una función que dado un texto, muestre las veces que aparece cada palabra."
   ]
  },
  {
   "cell_type": "code",
   "execution_count": 8,
   "metadata": {},
   "outputs": [
    {
     "name": "stdout",
     "output_type": "stream",
     "text": [
      "El texto es:  paco peco chico rico\n",
      "Aquí está el conteo:\n",
      "paco: 1\n",
      "peco: 1\n",
      "chico: 1\n",
      "rico: 1\n"
     ]
    }
   ],
   "source": [
    "import string  # Importa el módulo string que contiene los signos de puntuación\n",
    "\n",
    "def contador_de_palabras(texto): # Defino la funación contador de palabras\n",
    "    texto_limpio = ''.join(caracter for caracter in texto if caracter not in string.punctuation)    # Elimina los signos de puntuación \n",
    "    \n",
    "\n",
    "    palabras = texto_limpio.split()  # Divide el texto en palabras \n",
    "\n",
    "    ocurrencias = {}  # Crea un diccionario vacío para almacenar las ocurrencias de las palabras\n",
    "\n",
    "    # Itera sobre cada palabra en la lista de palabras\n",
    "    for palabra in palabras:\n",
    "        palabra = palabra.lower()  # Convierte la palabra a minúsculas \n",
    "        if palabra.isalpha():  # Verifica si la palabra consiste solo de caracteres alfabéticos\n",
    "            if palabra in ocurrencias:  # Verifica si la palabra ya está en el diccionario \n",
    "                ocurrencias[palabra] += 1  # Incrementa el conteo de ocurrencias de la palabra en 1\n",
    "            else:\n",
    "                ocurrencias[palabra] = 1  # Agrega la palabra al diccionario \n",
    "\n",
    "    # Imprime las palabras y sus ocurrencias\n",
    "    for palabra, conteo in ocurrencias.items():\n",
    "        print(f'{palabra}: {conteo}')  # Imprime la palabra seguida de su conteo de ocurrencias\n",
    "\n",
    "# Solicita al usuario que ingrese un texto\n",
    "texto = input('Hola, ingresa el texto que quieras que te cuente la cantidad de veces que aparece cada palabra: ')\n",
    "print(f'El texto es: {texto}')  # Imprime el texto ingresado \n",
    "print('Aquí está el conteo:')  # Imprime un mensaje indicando la acción a ejecutar\n",
    "contador_de_palabras(texto)  # Llama a la función contador_de_palabras con el texto ingresado por el usuario \n"
   ]
  },
  {
   "cell_type": "markdown",
   "metadata": {},
   "source": [
    "EJERCICIO 4 DICCIONARIO INVERSO\n",
    "\n",
    "Resulta que el cliente tiene una encuesta muy antigua que se almacena en un diccionario y los resultados los necesita al revés, es decir, intercambiados las claves y los valores. Los valores y claves en el diccionario original son únicos; si este no es el caso, la función debería imprimir un mensaje de advertencia."
   ]
  },
  {
   "cell_type": "code",
   "execution_count": 44,
   "metadata": {},
   "outputs": [
    {
     "name": "stdout",
     "output_type": "stream",
     "text": [
      "Diccionario original:\n",
      "{'audi': 'rojo', 'bmw': 'azul', 'opel': 'gris', 'volkswagen': 'verde', 'seat': 'blanco', 'fiat': 'amarillo', 'ford': 'negro'}\n",
      "Diccionario invertido:\n",
      "{'rojo': 'audi', 'azul': 'bmw', 'gris': 'opel', 'verde': 'volkswagen', 'blanco': 'seat', 'amarillo': 'fiat', 'negro': 'ford'}\n"
     ]
    }
   ],
   "source": [
    "# Defino la función invertir_diccionario que toma un diccionario como argumento\n",
    "def invertir_diccionario(diccionario): \n",
    "    # Verificar si los valores son únicos\n",
    "    if len(set(diccionario.values())) != len(diccionario):  # Convierto los valores del diccionario en un set para verificar si son únicos\n",
    "        print(\"Advertencia: Los valores en el diccionario no son únicos.\")  # Imprimo un mensaje de advertencia si hay valores repetidos\n",
    "        return None  # Devuelvo None si hay valores repetidos\n",
    "    \n",
    "    # Intercambiar claves y valores\n",
    "    diccionario_invertido = {valor: clave for clave, valor in diccionario.items()}  # Creo un nuevo diccionario con los valores como claves y las claves como valores\n",
    "    return diccionario_invertido  # Devuelvo el diccionario invertido\n",
    "\n",
    "# Creo el diccionario encuesta\n",
    "encuesta = {\n",
    "    \"audi\": \"rojo\",\n",
    "    \"bmw\": \"azul\",\n",
    "    \"opel\": \"gris\",\n",
    "    \"volkswagen\" : \"verde\",\n",
    "    \"seat\" : \"blanco\",\n",
    "    \"fiat\" : \"amarillo\",\n",
    "    \"ford\" : \"negro\"\n",
    "}\n",
    "\n",
    "# Llamo a la función invertir_diccionario \n",
    "diccionario_invertido = invertir_diccionario(encuesta)  \n",
    "\n",
    "# Verifico si el diccionario invertido no es None\n",
    "if diccionario_invertido is not None:  \n",
    "    # Imprimo el diccionario original\n",
    "    print(\"Diccionario original:\")  \n",
    "    print(encuesta)  \n",
    "    # Imprimo el diccionario invertido\n",
    "    print(\"Diccionario invertido:\")  \n",
    "    print(diccionario_invertido)  \n"
   ]
  }
 ],
 "metadata": {
  "kernelspec": {
   "display_name": "Python 3",
   "language": "python",
   "name": "python3"
  },
  "language_info": {
   "codemirror_mode": {
    "name": "ipython",
    "version": 3
   },
   "file_extension": ".py",
   "mimetype": "text/x-python",
   "name": "python",
   "nbconvert_exporter": "python",
   "pygments_lexer": "ipython3",
   "version": "3.12.2"
  }
 },
 "nbformat": 4,
 "nbformat_minor": 2
}
