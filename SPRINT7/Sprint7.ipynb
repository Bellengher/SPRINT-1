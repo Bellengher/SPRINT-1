{
 "cells": [
  {
   "cell_type": "markdown",
   "metadata": {},
   "source": [
    "# -NIVEL 1-"
   ]
  },
  {
   "cell_type": "markdown",
   "metadata": {},
   "source": [
    " EJERCICIO 1: CALCULADORA DE INDICE DE MASA CORPORAL\n"
   ]
  },
  {
   "cell_type": "code",
   "execution_count": 6,
   "metadata": {},
   "outputs": [
    {
     "name": "stdout",
     "output_type": "stream",
     "text": [
      "Hola, soy Jarvis tu asistente de salud, vamos a averiguar tu índice de masa corporal.\n",
      "Muy bien Rick.\n",
      "Por favor, utiliza un punto en lugar de una coma para los decimales.\n",
      "Por favor, utiliza un punto en lugar de una coma para los decimales.\n",
      "Tu índice de masa corporal es: 24.28 . Tienes un peso normal.\n",
      "Adiós Rick.\n"
     ]
    }
   ],
   "source": [
    "print('Hola, soy Jarvis tu asistente de salud, vamos a averiguar tu índice de masa corporal.')\n",
    "\n",
    "vnombre = str(input('¿Cuál es tu nombre?: '))\n",
    "vnombre = vnombre.capitalize()  \n",
    "print('Muy bien ' + vnombre + '.')\n",
    "#ingreso de la estatura\n",
    "while True:\n",
    "    vestatura = input('¿Cuál es tu estatura en metros?(utiliza . para decimales por favor): ')\n",
    "#se confirma que no se utiliza , en lugar de .\n",
    "    if ',' in vestatura:\n",
    "        print(\"Por favor, utiliza un punto en lugar de una coma para los decimales.\")\n",
    "    else:\n",
    "        break  \n",
    "\n",
    "vestatura = float(vestatura)  \n",
    "#ingreso del peso\n",
    "while True:\n",
    "    vpeso = input('¿Cuál es tu peso en kilogramos?(utiliza . para decimales por favor): ')\n",
    "#se confirma que no se utiliza , en lugar de .\n",
    "    if ',' in vpeso:\n",
    "        print(\"Por favor, utiliza un punto en lugar de una coma para los decimales.\")\n",
    "    else:\n",
    "        break  \n",
    "\n",
    "vpeso = float(vpeso)\n",
    "#formula de IMC + redondeo a 2 decimales\n",
    "imc = round(vpeso / (vestatura ** 2), 2)\n",
    "#salida del resultado\n",
    "if imc < 18.5:\n",
    "    print ('Tu índice de masa corporal es: ', imc, '. Tienes bajo peso.')\n",
    "elif imc < 25:\n",
    "    print('Tu índice de masa corporal es:', imc, '. Tienes un peso normal.')\n",
    "elif imc > 30:\n",
    "    print('Tu índice de masa corporal es:', imc, '. Tienes sobrepeso.')\n",
    "else:\n",
    "    print('Tu índice de masa corporal es:', imc, '. Tienes obesidad.')\n",
    "\n",
    "print('Adiós ' + vnombre + '.')\n"
   ]
  },
  {
   "cell_type": "markdown",
   "metadata": {},
   "source": [
    "EJERCICIO 2: CONVERSOR DE TEMPERATURAS \n",
    "\n"
   ]
  },
  {
   "cell_type": "code",
   "execution_count": 19,
   "metadata": {},
   "outputs": [
    {
     "name": "stdout",
     "output_type": "stream",
     "text": [
      "Hola, vamos a convertir los distintos tipos de temperatura.\n",
      "v  no es una opcion valida,por favor elige una opción: C para Celsius, F para Fahrenheit o K Kelvin\n",
      "v  no es una opcion valida,por favor elige una opción: C para Celsius, F para Fahrenheit o K Kelvin\n",
      "Has seleccionado el mismo sistema. Por favor, elige una opción diferente: C para Celsius, F para Fahrenheit o K Kelvin\n",
      "Quieres convertir 44.0 grados C a grados K\n",
      "El resultado de la conversión es: 317.15 grados K\n"
     ]
    }
   ],
   "source": [
    "print('Hola, vamos a convertir los distintos tipos de temperatura.')\n",
    "\n",
    "opciones_sistema_temp = ['C', 'F', 'K']\n",
    "resultado = 0\n",
    "vtemperatura = float(input('Dime una temperatura: '))\n",
    "\n",
    "# Validar el sistema de temperatura de entrada\n",
    "while True:\n",
    "    vsistempin = input('En qué sistema es esta temperatura? (C para Celsius, F para Fahrenheit o K para Kelvin): ')\n",
    "\n",
    "    if vsistempin.upper() in opciones_sistema_temp:\n",
    "        break\n",
    "    else:\n",
    "        print('Opción no válida. Por favor, elige entre C para Celsius, F para Fahrenheit o K Kelvin.')\n",
    "\n",
    "# Validar el sistema de temperatura de salida\n",
    "while True:\n",
    "    vsistempout = input('A qué sistema quieres convertirlo? (C para Celsius, F para Fahrenheit o K Kelvin): ')\n",
    "\n",
    "    if vsistempout.upper() in opciones_sistema_temp:\n",
    "        if vsistempout.upper() != vsistempin.upper():  # Verificar si la salida es diferente de la entrada\n",
    "            break\n",
    "        else:\n",
    "            print('Has seleccionado el mismo sistema. Por favor, elige una opción diferente: C para Celsius, F para Fahrenheit o K Kelvin')\n",
    "    else:\n",
    "        print( vsistempout,' no es una opcion valida,por favor elige una opción: C para Celsius, F para Fahrenheit o K Kelvin')\n",
    "\n",
    "# Parte donde se hace la conversión de unidades\n",
    "if vsistempin.upper() == 'C':\n",
    "    if vsistempout.upper() == 'F':\n",
    "        resultado = round((vtemperatura * 9/5) + 32, 2)\n",
    "    elif vsistempout.upper() == 'K':\n",
    "        resultado = round(vtemperatura + 273.15, 2)\n",
    "\n",
    "elif vsistempin.upper() == 'F':\n",
    "    if vsistempout.upper() == 'C':\n",
    "        resultado = round((vtemperatura - 32) * 5/9, 2)\n",
    "    elif vsistempout.upper() == 'K':\n",
    "        resultado = round(((vtemperatura - 32) * 5/9) + 273.15, 2)\n",
    "\n",
    "elif vsistempin.upper() == 'K':\n",
    "    if vsistempout.upper() == 'C':\n",
    "        resultado = round(vtemperatura - 273.15, 2)\n",
    "    elif vsistempout.upper() == 'F':\n",
    "        resultado = round((vtemperatura - 273.15) * 9/5 + 32, 2)\n",
    "\n",
    "# Imprimir el resultado de la conversión\n",
    "print('Quieres convertir', vtemperatura, 'grados', vsistempin.upper(), 'a grados', vsistempout.upper())\n",
    "print('El resultado de la conversión es:', resultado, 'grados', vsistempout.upper())\n"
   ]
  },
  {
   "cell_type": "markdown",
   "metadata": {},
   "source": [
    "EJERCICIO 3 CONTADOR DE PALABRAS DE UN TEXTO\n",
    "\n",
    "Escriu una funció que donat un text, mostri les vegades que apareix cada paraula."
   ]
  },
  {
   "cell_type": "code",
   "execution_count": 8,
   "metadata": {},
   "outputs": [
    {
     "name": "stdout",
     "output_type": "stream",
     "text": [
      "El texto es:  paco peco chico rico\n",
      "Aquí está el conteo:\n",
      "paco: 1\n",
      "peco: 1\n",
      "chico: 1\n",
      "rico: 1\n"
     ]
    }
   ],
   "source": [
    "import string  # Importa el módulo string que contiene los signos de puntuación\n",
    "\n",
    "def contador_de_palabras(texto):\n",
    "    texto_limpio = ''.join(caracter for caracter in texto if caracter not in string.punctuation)    # Elimina los signos de puntuación \n",
    "    \n",
    "\n",
    "    palabras = texto_limpio.split()  # Divide el texto en palabras \n",
    "\n",
    "    ocurrencias = {}  # Crea un diccionario vacío para almacenar las ocurrencias de las palabras\n",
    "\n",
    "    # Itera sobre cada palabra en la lista de palabras\n",
    "    for palabra in palabras:\n",
    "        palabra = palabra.lower()  # Convierte la palabra a minúsculas \n",
    "        if palabra.isalpha():  # Verifica si la palabra consiste solo de caracteres alfabéticos\n",
    "            if palabra in ocurrencias:  # Verifica si la palabra ya está en el diccionario \n",
    "                ocurrencias[palabra] += 1  # Incrementa el conteo de ocurrencias de la palabra en 1\n",
    "            else:\n",
    "                ocurrencias[palabra] = 1  # Agrega la palabra al diccionario \n",
    "\n",
    "    # Imprime las palabras y sus ocurrencias\n",
    "    for palabra, conteo in ocurrencias.items():\n",
    "        print(f'{palabra}: {conteo}')  # Imprime la palabra seguida de su conteo de ocurrencias\n",
    "\n",
    "# Solicita al usuario que ingrese un texto\n",
    "texto = input('Hola, ingresa el texto que quieras que te cuente la cantidad de veces que aparece cada palabra: ')\n",
    "print('El texto es: ',texto)  # Imprime el texto ingresado \n",
    "print('Aquí está el conteo:')  # Imprime un mensaje indicando la acción a ejecutar\n",
    "contador_de_palabras(texto)  # Llama a la función contador_de_palabras con el texto ingresado por el usuario \n"
   ]
  },
  {
   "cell_type": "markdown",
   "metadata": {},
   "source": [
    "EJERCICIO 4 DICCIONARIO INVERSO\n",
    "\n",
    "Resulta que el client té una enquesta molt antiga que s'emmagatzema en un diccionari i els resultats els necessita al revés, és a dir, intercanviats les claus i els valors. Els valors i claus en el diccionari original són únics; si aquest no és el cas, la funció hauria d'imprimir un missatge d'advertiment."
   ]
  },
  {
   "cell_type": "code",
   "execution_count": null,
   "metadata": {},
   "outputs": [],
   "source": []
  }
 ],
 "metadata": {
  "kernelspec": {
   "display_name": "Python 3",
   "language": "python",
   "name": "python3"
  },
  "language_info": {
   "codemirror_mode": {
    "name": "ipython",
    "version": 3
   },
   "file_extension": ".py",
   "mimetype": "text/x-python",
   "name": "python",
   "nbconvert_exporter": "python",
   "pygments_lexer": "ipython3",
   "version": "3.12.2"
  }
 },
 "nbformat": 4,
 "nbformat_minor": 2
}
